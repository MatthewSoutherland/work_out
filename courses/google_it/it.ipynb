{
 "cells": [
  {
   "cell_type": "markdown",
   "metadata": {},
   "source": [
    "[intro](https://www.youtube.com/watch?v=lJC_sJ6jhDo&list=PLTZYG7bZ1u6pQJShZs9iV0aJNzsqTm4Mx)"
   ]
  },
  {
   "cell_type": "markdown",
   "metadata": {},
   "source": [
    "[intro 2](https://www.youtube.com/watch?v=f_c7PrH3rX8&list=PLTZYG7bZ1u6pQJShZs9iV0aJNzsqTm4Mx&index=2)  \n",
    "0:00 Intro to IT Support  \n",
    "4:40 What Does an IT Support Specialist Do?  \n",
    "7:03 Course Introduction  \n",
    "9:03 History of Computing: From Abacus to Analytical Engine  \n",
    "14:34 The Path to Modern Computers  \n",
    "25:15 Computer Language  \n",
    "28:20 Character Encoding  \n",
    "31:00 Binary  \n",
    "33:32 How to Count in Binary  \n",
    "36:17 Computer Architecture Layers: Abstraction  \n",
    "38:26 Computer Architecture Overview  "
   ]
  }
 ],
 "metadata": {
  "language_info": {
   "name": "python"
  }
 },
 "nbformat": 4,
 "nbformat_minor": 2
}
