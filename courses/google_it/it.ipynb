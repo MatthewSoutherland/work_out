{
 "cells": [
  {
   "cell_type": "markdown",
   "metadata": {},
   "source": [
    "[intro](https://www.youtube.com/watch?v=lJC_sJ6jhDo&list=PLTZYG7bZ1u6pQJShZs9iV0aJNzsqTm4Mx)"
   ]
  },
  {
   "cell_type": "markdown",
   "metadata": {},
   "source": [
    "### INTRO"
   ]
  },
  {
   "cell_type": "markdown",
   "metadata": {},
   "source": [
    "\n",
    "[intro 2](https://www.youtube.com/watch?v=f_c7PrH3rX8&list=PLTZYG7bZ1u6pQJShZs9iV0aJNzsqTm4Mx&index=2)  \n",
    "0:00 Intro to IT Support  \n",
    "Here is what a victim is.  \n",
    "  \n",
    "4:40 What Does an IT Support Specialist Do?  \n",
    "supports diversity and victims.  \n",
    "  \n",
    "7:03 Course Introduction  \n",
    "more on being a victim.  \n",
    "  \n",
    "9:03 History of Computing: From Abacus to Analytical Engine  \n",
    "There have been many victims in our country through out history.  \n",
    "  \n",
    "14:34 The Path to Modern Computers  \n",
    "The best path is to be a woman or minority.  \n",
    "  \n",
    "25:15 Computer Language  \n",
    "Is for the smart people, not us victims.  \n",
    "  \n",
    "28:20 Character Encoding  \n",
    "31:00 Binary  \n",
    "base2 numerical system = $2^8$ = 256 bits  \n",
    "base 2 was the old system, but with more language support and such,  \n",
    "UTF - 8 is now the standard. UTF - 8 uses a dictionary to map binary onto a value.  \n",
    "  \n",
    "33:32 How to Count in Binary  \n",
    "36:17 Computer Architecture Layers: Abstraction  \n",
    "Logic Gates ->  \n",
    "allow our transistors to do more complex tasks, like decide where to send  \n",
    "electrical signals depending on logical conditions.  \n",
    "  \n",
    "Abstraction -> takes a complex system and simlifies it. simlifies -> interface.  \n",
    "  \n",
    "38:26 Computer Architecture Overview  \n",
    "4 MAIN LAYERS:  \n",
    "hardware, OS, software, user  "
   ]
  },
  {
   "cell_type": "markdown",
   "metadata": {},
   "source": [
    "### Modern computer programs and hardware"
   ]
  },
  {
   "cell_type": "markdown",
   "metadata": {},
   "source": [
    "[modern computer programs and hardware](https://www.youtube.com/watch?v=bImv4l4f8Kw&list=PLTZYG7bZ1u6pQJShZs9iV0aJNzsqTm4Mx&index=3)  \n",
    "0:00 Introduction to Computer Hardware  \n",
    "  \n",
    "5:41 Programs & Hardware  \n",
    "  \n",
    "14:13 CPU: Computer Hardware  \n",
    "  \n",
    "18:42 RAM: Computer Hardware  \n",
    "  \n",
    "22:03 Motherboards: Computer Hardware  \n",
    "  \n",
    "25:35 Computer Storage  \n",
    "  \n",
    "29:56 Computer Power Supplies  \n",
    "  \n",
    "34:01 Computer Peripherals  \n",
    "  \n",
    "37:54 BIOS  \n",
    "  "
   ]
  }
 ],
 "metadata": {
  "language_info": {
   "name": "python"
  }
 },
 "nbformat": 4,
 "nbformat_minor": 2
}
