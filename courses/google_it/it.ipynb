{
 "cells": [
  {
   "cell_type": "markdown",
   "metadata": {},
   "source": [
    "[intro](https://www.youtube.com/watch?v=lJC_sJ6jhDo&list=PLTZYG7bZ1u6pQJShZs9iV0aJNzsqTm4Mx)"
   ]
  },
  {
   "cell_type": "markdown",
   "metadata": {},
   "source": [
    "### INTRO"
   ]
  },
  {
   "cell_type": "markdown",
   "metadata": {},
   "source": [
    "\n",
    "[intro 2](https://www.youtube.com/watch?v=f_c7PrH3rX8&list=PLTZYG7bZ1u6pQJShZs9iV0aJNzsqTm4Mx&index=2)  \n",
    "0:00 Intro to IT Support  \n",
    "Here is what a victim is.  \n",
    "  \n",
    "4:40 What Does an IT Support Specialist Do?  \n",
    "supports diversity and victims.  \n",
    "  \n",
    "7:03 Course Introduction  \n",
    "more on being a victim.  \n",
    "  \n",
    "9:03 History of Computing: From Abacus to Analytical Engine  \n",
    "There have been many victims in our country through out history.  \n",
    "  \n",
    "14:34 The Path to Modern Computers  \n",
    "The best path is to be a woman or minority.  \n",
    "  \n",
    "25:15 Computer Language  \n",
    "Is for the smart people, not us victims.  \n",
    "  \n",
    "28:20 Character Encoding  \n",
    "31:00 Binary  \n",
    "base2 numerical system = $2^8$ = 256 bits  \n",
    "base 2 was the old system, but with more language support and such,  \n",
    "UTF - 8 is now the standard. UTF - 8 uses a dictionary to map binary onto a value.  \n",
    "  \n",
    "33:32 How to Count in Binary  \n",
    "36:17 Computer Architecture Layers: Abstraction  \n",
    "Logic Gates ->  \n",
    "allow our transistors to do more complex tasks, like decide where to send  \n",
    "electrical signals depending on logical conditions.  \n",
    "  \n",
    "Abstraction -> takes a complex system and simlifies it. simlifies -> interface.  \n",
    "  \n",
    "38:26 Computer Architecture Overview  \n",
    "4 MAIN LAYERS:  \n",
    "hardware, OS, software, user  "
   ]
  },
  {
   "cell_type": "markdown",
   "metadata": {},
   "source": [
    "### Modern computer programs and hardware"
   ]
  },
  {
   "cell_type": "markdown",
   "metadata": {},
   "source": [
    "[modern computer programs and hardware](https://www.youtube.com/watch?v=bImv4l4f8Kw&list=PLTZYG7bZ1u6pQJShZs9iV0aJNzsqTm4Mx&index=3)  \n",
    "0:00 Introduction to Computer Hardware  \n",
    "  \n",
    "5:41 Programs & Hardware    \n",
    "CPU process programs  \n",
    "program sends instructions one line at a time, these instructions are in binary.  \n",
    "  \n",
    "External Data Bus or EDB:\n",
    "A row of wires that connect parts of the computer.\n",
    "when you send voltage through one of the wires, the state of the wire is on or represented by a 1.  \n",
    "if there is no voltage, the state of the wire is off or represented by 0.   \n",
    "  \n",
    "The EDB comes in different sizes -> 8-bit, 16-bit, 32-bit, 64-bit  \n",
    "  \n",
    "inside a CPU there are components known as registers. They let us store the data the CPU needs to work with.  \n",
    "\n",
    "MCC = Memory Controller Chip  \n",
    "CPU -> Address Bus -> Memory Controller Chip  \n",
    "\n",
    "Cache allows us to store data we use often, which is faster than information stored in RAM.  \n",
    "There are 3 different cache levels in a CPU: L1, L2, L3.  \n",
    "L1 is the smallest and fastest cache.\n",
    "\n",
    "CPU knows when instructions end because of a clock wire.  \n",
    "when you send voltage to a clock wire its known as a clock cycle.  \n",
    "When you see a CPU labeled 3.4GHz -> this number refers to the clock speed of the CPU, the maximum number of clock cycles that it can handle in a certain time period.  \n",
    "3.4 gigahertz is 3.4 billion cycles per second.  \n",
    "There is a way to exceed the number of clock cycles, its known as overclocking.  \n",
    "In the example gaming was brought up to reduce lag. The drawback could be over heating the CPU.  \n",
    "\n",
    "  \n",
    "14:13 CPU: Computer Hardware  \n",
    "The translation book is called an instruction set.  Function like adding subtracting, copying data are all instruction that the CPU can carry out.  \n",
    "\n",
    "Here is a random list of CPU manufactor product names = [intel Core i7, AMD Athlon, Snapdragon 810, Apple A8]  \n",
    "Each of these CPU's have their strengths and weaknesses.  \n",
    "When you select your CPU, you'll need to make sure it's compatible with your motherboard -> the circuit board that connects all your components together.  \n",
    "\n",
    "The CPU has prongs that stick out, and they fit into a socket. There are two major types of sockets -> Land Grid Array also known as LGA, and Pin Grid Array.  \n",
    "  \n",
    "The CPU does a lot of work so it is vulnarble to overheating. The heat sink transfers heat to a fan or other means of cooling.  \n",
    "  \n",
    "CPU's that have 32-bit or 64-bit is how much data they can handle for processing.  \n",
    "\n",
    "  \n",
    "18:42 RAM: Computer Hardware  \n",
    "There are lots of types of RAM, and the one that's commonly found in computers is DRAM, or dynamic random-access-memory.  \n",
    "  \n",
    "DRAM stored information in chips. There is also SDRAM, which stands for Synchronous DRAM.  \n",
    "SDRAM is synchronized to the systems clock speed, allowing for quicker processing of data.  \n",
    "In today's system, we use another type of RAM, called double data rate SDRAM or DDR SDRAM for short.  \n",
    "  \n",
    "DDR is the fasted short-term memory currently available. Programs can be run faster and more programs can be run at the same time.  \n",
    "\n",
    "  \n",
    "22:03 Motherboards: Computer Hardware  \n",
    "The foundation that holds the computer together. It lets us expand our computers functionality by adding expansion cards. It routes power from the power supply. Allows different parts of the computer to cmomunicate with each other.  \n",
    "  \n",
    "The mother board has two chips(known as the chip set), one is the Northbridge, the other is the southbridge.  \n",
    "Northbridge -> interconnect stuff like RAM and video cards.  \n",
    "Southbridge -> maintains our I/O, or input output controllers. Like hard drives and USB's.  \n",
    "\n",
    "In some modern CPU's the northbridge has been integrated into the CPU. So there isnt a seperate northbridge chipset. The chipset allows us to manage our CPU, RAM, and Peripherals.  \n",
    "  \n",
    "Peripherals -> External devices we connect to out computer, like a mouse, keyborad, and monitor.  \n",
    "  \n",
    "Mother boards have another key characterisic known as expansion slots. Exansion slots give us the ability to increase the functionality of our computer. An example would be putting a graphcis card into an expansion slot.  \n",
    "  \n",
    "Peripheral Component Interconnect Express or PCIE  \n",
    "a PCIE bus looks like a slot on the motherboard, a PCIE base expansion card looks like a smaller circuit board.  \n",
    "   \n",
    "Form Factor:  \n",
    "The size of the mother board.  \n",
    "The most common form factor of a mother board is ATX which stands for Advanced Technology extended.  \n",
    "\n",
    "25:35 Computer Storage  \n",
    "1 bit -> 0 or 1  \n",
    "1 byte -> 8 bits  \n",
    "1 kilobyte -> 1,024 bytes  \n",
    "1 megabyte -> 1,024 kilobytes  \n",
    "1 gigabyte -> 1,024 megabytes  \n",
    "1 terabyte -> 1,024 gigabytes  \n",
    "  \n",
    "there are two basic hard drives used today. HDD's and SSD's   \n",
    "HDD's use a mechanical arm that spins to read and write information.  \n",
    "If you buy an HDD you might see 500 gigbyte at 5,400 RPM. The faster the RPM the faster it can write data. This type of hard drive can have damage due to the moving parts.  \n",
    "  \n",
    "SSD or solid state drive's, have no moving parts and store information simular to a USB.  \n",
    "SSD's are small microchips, they can store far more data and are much faster.  \n",
    "SSD's are more expensive.  \n",
    "  \n",
    "There are a few interfaces that hard drives use to connect our system.  \n",
    "ATA interfaces are the most common. Uses one cable for data transfer.  \n",
    "  \n",
    "NVM or NVMe  \n",
    "SSD's were to fast for a cable so NVM are used.  \n",
    "  \n",
    "  \n",
    "29:56 Computer Power Supplies  \n",
    "Computer use DC voltage, so the power supply converts the AC into low-voltage DC power.  \n",
    "wattage is the amount of voltage and amparage that a device needs.  \n",
    "\n",
    "  \n",
    "34:01 Computer Peripherals  \n",
    "USB -> Universal Serial Bus  \n",
    "USB 2.0 -> Transfer speeds of 480 Mb/s -> ports are black  \n",
    "USB 3.0 -> Transfer speeds of 5 Gb/s -> ports are blue  \n",
    "USB 3.1 -> Transfer speeds of 10 Gb/s -> ports are teal  \n",
    "  \n",
    "37:54 BIOS  \n",
    "A click or button on a keyboard sends a 1 bit signal to our computer.  \n",
    "our computer uses services or drivers. The BIOS(basic input output services) connects our CPU to things like a mouse or keyboard. The mother board stores the BIOS in a special type of memory called the Read-Only Memory chip or ROM chip.  \n",
    "  \n",
    "POST:\n",
    "Power On Self Test, when we turn the computer on the BIOS runs it when you boot up your computer to make sure all the hardware is running properly. The POST figures out what hardware is on the computer, so it happens before the BIOS initializes any hardware or loads any initial drivers.  \n",
    "  \n",
    "CMOS chip:  \n",
    "it stores basic data about booting your computer. Data, time and how you want it to start up.  \n",
    "A frequent task performed in IT is the reimageing of a computer. The term refers to a disk image which is a copy of an OS. wiping and reinstalling an operating system."
   ]
  },
  {
   "cell_type": "markdown",
   "metadata": {},
   "source": [
    "### build a computer in 20 minutes"
   ]
  },
  {
   "cell_type": "markdown",
   "metadata": {},
   "source": [
    "[build a computer in 20 minutes](https://www.youtube.com/watch?v=2su9UP4dSzo&list=PLTZYG7bZ1u6pQJShZs9iV0aJNzsqTm4Mx&index=4)  \n",
    "Starts by connecting an anti static braclet around his wrist and grounding it out to computer case.  \n",
    "  \n",
    "thermal paste is used to better connect the cpu to the heat shink.  "
   ]
  },
  {
   "cell_type": "markdown",
   "metadata": {},
   "source": [
    "### IT support for moble devices"
   ]
  },
  {
   "cell_type": "markdown",
   "metadata": {},
   "source": [
    "[IT support for moble devices:](\n",
    "https://www.youtube.com/watch?v=nPVAAapx_5s&list=PLTZYG7bZ1u6pQJShZs9iV0aJNzsqTm4Mx&index=5)"
   ]
  },
  {
   "cell_type": "markdown",
   "metadata": {},
   "source": [
    "System on a Chip (SoC)  \n",
    "Packs the CPU, RAM, and sometimes even the storage onto a single chip. \n",
    "\n",
    "Rechargable batteries have a limited life cycle in Charge cycles.  \n",
    "A charge cycle is one full charge and discharge of a battery.  \n"
   ]
  },
  {
   "cell_type": "markdown",
   "metadata": {},
   "source": [
    "### Operating Systems Composition and Management"
   ]
  },
  {
   "cell_type": "markdown",
   "metadata": {},
   "source": [
    "[operating systems composition and management](\n",
    "https://www.youtube.com/watch?v=7CrfA-ukRe4&list=PLTZYG7bZ1u6pQJShZs9iV0aJNzsqTm4Mx&index=6)  \n",
    "  \n",
    "0:00 Introduction to Computer Operating Systems  \n",
    "  \n",
    "1:38 Remote Connection and SSH  \n",
    "Secure shell (SSH)  \n",
    "    - A protocol implemented by other programs to securely access one computer from another.  \n",
    "    - In order to use SSH -> you need to have an SSH client installed on the computer your connecting from along with an SSH server on the computer you're trying to access.  \n",
    "    - The most popular SSH program for Linux is the OpenSSH program.  \n",
    "    - The most popular SSH program for windows is PuTTy.   \n",
    "    - Login:\n",
    "        - Must have an account on that computer.  \n",
    "        - Also need the hostname or IP address of that computer.  \n",
    "        - SSH keys come in a set of two keys called public and private.  \n",
    "        - You can only lock something with a public key, you can only unlock with a private key.  \n",
    "    - Another way to connect to a machine with a Virtual private network (VPN)  \n",
    "        - Allows you to connect to a private network, like your work network, over the internet.  \n",
    "\n",
    "7:02 Remote Connections on Windows  \n",
    "PuTTY:\n",
    "    - A free, open source software that you can use to make remote connections through several network protocols, including SSH.  \n",
    "    - Port is preset at 22 -> SSH.  \n",
    "    - All you need to do is type in the hostname or IP of the computer you want to connect to.  \n",
    "    - you can use the GUI or CLI.  \n",
    "    - Windows provides another way to connect from a windows machine to a windows machine. This is called RDP.  \n",
    "  \n",
    "11:42 Components of an Operating System  \n",
    "Operating system:  \n",
    "    - The whole package that manages our computer's resources and lets us interact with it.  \n",
    "    - There are two main parts of the operating system -> The Kernel and the User space.  \n",
    "    - The kernel is the main core of an operating system. It talks directly to the hardware and manages our system's resources.  \n",
    "    - There are hundreds of OS's out there but we will focus on 3.  \n",
    "        - Windows, Mac, and Linux.  \n",
    "    - Will refer to PC as windows machine.  \n",
    "    - If you buy an apple computer it will come with Mac preinstalled.  \n",
    "    - Linux is an open source OS. There are many different versions of the Linux OS. Ref -> distributions.  \n",
    "        - Common distributions -> Ubuntu, Debian, Red Hat.  \n",
    "    - mobile devices have Android, OS, IOS, and Windows 10 Mobile. \n",
    "        - not covered here.  \n",
    "        - fun fact: ChromeOS and Android both run a linux kernal under the hood.  \n",
    "    The kernel:  \n",
    "    - file storage and file management.  \n",
    "    - Process management.  \n",
    "    - optimizes memory usage and makes sure our applications have enough memory to run.  \n",
    "    - Input output or I/O management.  \n",
    "        - This is how our computer talks to disks, keyboards, networks, connections, audio devices ect...  \n",
    "    User space:  \n",
    "        - Everything outside the kernel.  \n",
    "        - Programs such as text editors, user interfaces, ect...  \n",
    "  \n",
    "17:54 Operating Systems: Files and File Systems  \n",
    "- There are 3 components to handling a file -> Data, Metadata, File System.  \n",
    "- Windows uses a file system called NTFS. Includes encryption, faster access speed, security, and more.  \n",
    "- Mac uses a file system called HFS+.  \n",
    "- Linux has a verity but one common file system is ext4.  \n",
    "- We write data to our hard drive in the form of data blocks.  \n",
    "    - Block storage improves faster handling of data because the data isn't stored as one long peice and can be accessed quicker.  \n",
    "Metadata:\n",
    "    - Stores things such as: File Owner, Permissions, File Size, Date Modified, Date Created, File Type.  \n",
    "    - File extension: The appended part of a filename that tells us what type of file it is in certain operating systems.  \n",
    "\n",
    "21:42 Operating Systems: Process Management  \n",
    "Process:\n",
    "    - A program that's executing, like our internet browser or text editor.  \n",
    "Program:\n",
    "    - An application that we can run, like Chrome.  \n",
    "  \n",
    "We can have many process running on the same program at one time. Example would be having multiple windows open in a browser.  \n",
    "\n",
    "The kernal has to schedule time for the CPU to run processes.  \n",
    "the kernal can execute many processes at the same time with time slices. These time slices can take miliseconds to run.  \n",
    "  \n",
    "The kernel creates processes, efficiently schedules them, and manages how processes are terminated.  \n",
    "\n",
    "24:23 Operating Systems: Memory Management  \n",
    "Virtual memory: The combination of hard drive space and RAM that acts like memory that our processes can use.  \n",
    "If a program needs read and executed it needs to be stored in RAM.  \n",
    "    - When we store the program in RAM (memory) we call the allocated space Swap space.  \n",
    "\n",
    "26:17 I/O Management  \n",
    "The kernal loads up drivers that are used to speak to the different types of I/O devices.  \n",
    "  \n",
    "When you're troubleshooting or solving a problem with a slow machine, it's usually some sort of hardware resource deficiency.  \n",
    "  \n",
    "28:29 Interacting with the OS: User Space  \n",
    "there are two ways that we can interact with our OS -> CLI, GUI.  \n",
    "  \n",
    "\n",
    "31:59 Operating System Logs  \n",
    "Logs are files that record system events on our computer, like a system's diary.  \n",
    "Our computer will record events like -> when it was turned on, when a driver was loaded, error messages.  \n",
    "We can use logs to investage what happened in a computer.  \n",
    "  \n",
    "34:05 Operating System: The Boot Process  \n",
    "Booting a computer or starting a computer comes from the phrase to pull oneself up by one's bootstraps.  \n",
    "First the computer is powered on, the BIOS/UEFI is a low-level software that initializes our computer's hardware to makesure everything is good to go.  \n",
    "The BIOS/UEFI runs a power on self test(POST).  \n",
    "\n",
    "Next: Boot Devices will be checked in a certain order, the computer will search for what's known as a bootloader.  \n",
    "The bootloader is a small program that loads the operating system.  \n",
    "Once the bootloader loads up our operating system the kernel gets loaded.  \n",
    "\n"
   ]
  },
  {
   "cell_type": "markdown",
   "metadata": {},
   "source": [
    "### Operating systems consideration and installation"
   ]
  },
  {
   "cell_type": "markdown",
   "metadata": {},
   "source": [
    "[Operating systems consideration and installation](https://www.youtube.com/watch?v=aW083dxraSA&list=PLTZYG7bZ1u6pQJShZs9iV0aJNzsqTm4Mx&index=7)  \n",
    "  \n",
    "0:00 Choosing an Operating System  \n",
    "3:14 Virtual Machines  \n",
    "5:07 Installing Windows  \n",
    "10:10 Installing Linux  \n",
    "16:46 Mobile Operating Systems  \n",
    "18:34 What is Chrome OS?  \n",
    "21:53 Installing Mac OS X  \n"
   ]
  },
  {
   "cell_type": "markdown",
   "metadata": {},
   "source": [
    "### An in depth look at internate"
   ]
  },
  {
   "cell_type": "markdown",
   "metadata": {},
   "source": [
    "[An in depth look at internate](https://www.youtube.com/watch?v=EKM7FUHZwVo&list=PLTZYG7bZ1u6pQJShZs9iV0aJNzsqTm4Mx&index=8)  \n",
    "  \n",
    "0:00 Basics of Networking  \n",
    "3:44 Networking Hardware  \n",
    "14:59 Language of the Internet  \n",
    "16:53 How to access the internet: The Web  \n",
    "20:30 History of the Internet  \n",
    "24:23 Internet Limitations  \n",
    "28:06 Impact of the Internet  \n",
    "31:35 Networking: Internet of Things  \n",
    "33:16 Networking Privacy and Security  "
   ]
  },
  {
   "cell_type": "markdown",
   "metadata": {},
   "source": [
    "### Software installation and removal"
   ]
  },
  {
   "cell_type": "markdown",
   "metadata": {},
   "source": [
    "[Software installation and removal](https://www.youtube.com/watch?v=G7hBtzi8D0o&list=PLTZYG7bZ1u6pQJShZs9iV0aJNzsqTm4Mx&index=9)  \n",
    "  \n",
    "0:00 Introduction to Software  \n",
    "0:35 What is Software?  \n",
    "3:33 Types of Software  \n",
    "6:53 Revisiting Abstraction  \n",
    "8:00 Recipe for Computing  \n",
    "11:35 Managing Software  \n",
    "14:29 Installing, Updating and Removing Software on Windows  \n",
    "17:17 Installing, Updating and Removing Software on Linux  \n",
    "19:13 Software Automation  "
   ]
  },
  {
   "cell_type": "markdown",
   "metadata": {},
   "source": [
    "### Why trouble shooting is critical"
   ]
  },
  {
   "cell_type": "markdown",
   "metadata": {},
   "source": [
    "[Why trouble shooting is critical](https://www.youtube.com/watch?v=tAp6lsooLO4&list=PLTZYG7bZ1u6pQJShZs9iV0aJNzsqTm4Mx&index=10)  \n",
    "  \n",
    "0:00 Troubleshooting Best Practices  \n",
    "2:09 Ask Questions while Troubleshooting  \n",
    "6:02 Isolating the Problem  \n",
    "9:25 Follow the Cookie Crumbs  \n",
    "12:31 Start with the Quickest Step First in IT Support  \n",
    "14:36 Troubleshooting Pitfalls to Avoid  \n",
    "16:22 Ticketing Systems and Documenting Your Work  \n",
    "18:49 Process Documentation  \n",
    "20:35 Documenting in Ticketing Systems  "
   ]
  },
  {
   "cell_type": "markdown",
   "metadata": {},
   "source": [
    "### IT customer service"
   ]
  },
  {
   "cell_type": "markdown",
   "metadata": {},
   "source": [
    "[IT customer service](https://www.youtube.com/watch?v=9q44g-1wgrQ&list=PLTZYG7bZ1u6pQJShZs9iV0aJNzsqTm4Mx&index=11)  \n",
    "  \n",
    "0:00 Customer Service: Soft Skills Introduction  \n",
    "9:01 Anatomy of an Interaction with a customer  \n",
    "16:26 How to Deal with Difficult Situations in IT   "
   ]
  }
 ],
 "metadata": {
  "kernelspec": {
   "display_name": "env",
   "language": "python",
   "name": "python3"
  },
  "language_info": {
   "name": "python",
   "version": "3.12.2"
  }
 },
 "nbformat": 4,
 "nbformat_minor": 2
}
