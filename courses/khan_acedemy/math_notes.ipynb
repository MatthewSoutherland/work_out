{
 "cells": [
  {
   "cell_type": "markdown",
   "metadata": {},
   "source": [
    "## math symbols\n"
   ]
  },
  {
   "cell_type": "markdown",
   "metadata": {},
   "source": [
    "### notes"
   ]
  },
  {
   "cell_type": "markdown",
   "metadata": {},
   "source": [
    "1. To add little spacing in math mode use \\\n",
    "2. to add a new line when in math mode use \\\\\n",
    "3. To display fraction use \\frac{arg 1}{arg 2}\n",
    "4. For power (superscripts text) use ^{}\n",
    "5. For indices (subscripts) use _{}\n",
    "6. For roots use \\sqrt[n]{arg}  The[n] is optional"
   ]
  },
  {
   "cell_type": "markdown",
   "metadata": {},
   "source": [
    "$$\n",
    "\\frac{arg 1}{arg 2} \\\\\n",
    "x^2\\\\\n",
    "e^{i\\pi}\\\\\n",
    "A_i\\\\\n",
    "B_{ij}\\\\\n",
    "\\sqrt[n]{arg}\t\n",
    "$$"
   ]
  },
  {
   "cell_type": "markdown",
   "metadata": {},
   "source": [
    "7. To write greek letters type \\ and the letter name:\n",
    "Given : $\\pi = 3.14$ , $\\alpha = \\frac{3\\pi}{4}\\, rad$\n",
    "$$\n",
    "\\omega = 2\\pi f \\\\\n",
    "f = \\frac{c}{\\lambda}\\\\\n",
    "\\lambda_0=\\theta^2+\\delta\\\\\n",
    "\\Delta\\lambda = \\frac{1}{\\lambda^2}\n",
    "$$\n",
    "8. To write Capital Greek letter, type the first case after the backslash \\ as an uppercase.\n"
   ]
  },
  {
   "cell_type": "markdown",
   "metadata": {},
   "source": [
    "### Greek letters"
   ]
  },
  {
   "cell_type": "markdown",
   "metadata": {},
   "source": [
    "\\alpha: $\\alpha$ &emsp; \\Alpha: $\\Alpha$  \n",
    "\\beta: $\\beta$ &emsp; \\Beta: $\\Beta$  \n",
    "\\gamma: $\\gamma$ &emsp; \\Gamma: $\\Gamma$  \n",
    "\\delta: $\\delta$ &emsp; \\Delta: $\\Delta$  \n",
    "\\epsilon: $\\epsilon$ &emsp; \\Epsilon: $\\Epsilon$  \n",
    "\\varepsilon: $\\varepsilon$  \n",
    "\\zeta: $\\zeta$ &emsp; \\Zeta: $\\Zeta$  \n",
    "\\eta: $\\eta$ &emsp; \\Eta: $\\Eta$  \n",
    "\\theta: $\\theta$ &emsp; \\Theta: $\\Theta$  \n",
    "\\vartheta: $\\vartheta$  \n",
    "\\iota: $\\iota$ &emsp; \\Iota: $\\Iota$  \n",
    "\\kappa: $\\kappa$ &emsp; \\Kappa: $\\Kappa$  \n",
    "\\lambda: $\\lambda$ &emsp; \\Lambda: $\\Lambda$  \n",
    "\\mu: $\\mu$ &emsp; \\Mu: $\\Mu$  \n",
    "\\nu: $\\nu$ &emsp; \\Nu: $\\Nu$  \n",
    "\\xi: $\\xi$ &emsp; \\Xi: $\\Xi$  \n",
    "\\pi: $\\pi$ &emsp; \\Pi: $\\Pi$  \n",
    "\\varpi: $\\varpi$  \n",
    "\\rho: $\\rho$ &emsp; \\Rho: $\\Rho$  \n",
    "\\varrho: $\\varrho$  \n",
    "\\sigma: $\\sigma$ &emsp; \\Sigma: $\\Sigma$  \n",
    "\\varsigma: $\\varsigma$  \n",
    "\\tau: $\\tau$ &emsp; \\Tau: $\\Tau$  \n",
    "\\upsilon: $\\upsilon$ &emsp; \\Upsilon: $\\Upsilon$  \n",
    "\\phi: $\\phi$ &emsp; \\Phi: $\\Phi$  \n",
    "\\varphi: $\\varphi$  \n",
    "\\chi: $\\chi$ &emsp; \\Chi: $\\Chi$  \n",
    "\\psi: $\\psi$ &emsp; \\Psi: $\\Psi$  \n",
    "\\omega: $\\omega$ &emsp; \\Omega: $\\Omega$  "
   ]
  },
  {
   "cell_type": "markdown",
   "metadata": {},
   "source": [
    "$$\n",
    "sin(-\\alpha)=-\\sin(\\alpha)\\\n",
    "arccos(x)=\\arcsin(u)\\\n",
    "log_n(n)=1\\\n",
    "tan(x) = \\frac{\\sin(x)}{\\cos(x)}\n",
    "$$\n",
    "$$\n",
    "\\sin(-\\alpha)=-\\sin(\\alpha)\\\\\n",
    "\\arccos(x)=\\arcsin(u)\\\\\n",
    "\\log_n(n)=1\\\\\n",
    "\\tan(x) = \\frac{\\sin(x)}{\\cos(x)}\n",
    "$$"
   ]
  },
  {
   "cell_type": "markdown",
   "metadata": {},
   "source": [
    "### other math symbols"
   ]
  },
  {
   "cell_type": "markdown",
   "metadata": {},
   "source": [
    "\\sin: $\\sin$ &emsp; \\sinh: $\\sinh$ &emsp; \\arcsin: $\\arcsin$  \n",
    "\\cos: $\\cos$ &emsp; \\cosh: $\\cosh$ &emsp; \\arccos: $\\arccos$  \n",
    "\\tan: $\\tan$ &emsp; \\tanh: $\\tanh$ &emsp; \\arctan: $\\arctan$  \n",
    "\\sec: $\\sec$ &emsp; \\coth: $\\coth$ &emsp; \\min: $\\min$  \n",
    "\\csc: $\\csc$ &emsp; \\det: $\\det$ &emsp; \\max: $\\max$  \n",
    "\\cot: $\\cot$ &emsp; \\dim: $\\dim$ &emsp; \\inf: $\\inf$  \n",
    "\\exp: $\\exp$ &emsp; \\ker: $\\ker$ &emsp; \\sup: $\\sup$  \n",
    "\\log: $\\log$ &emsp; \\deg: $\\deg$ &emsp; \\liminf: $\\liminf$  \n",
    "\\ln: $\\ln$ &emsp; \\arg: $\\arg$ &emsp; \\limsup: $\\limsup$  \n",
    "\\lg: $\\lg$ &emsp; \\gcd: $\\gcd$ &emsp; \\lim: $\\lim$  \n",
    "\n",
    "<: $<$ &emsp; \\angle: $\\angle$ &emsp; \\cdot: $\\cdot$  \n",
    "\\leq: $\\leq$ &emsp; \\measuredangle: $\\measuredangle$ &emsp; \\pm: $\\pm$  \n",
    "\\>: $>$ &emsp; \\ell: $\\ell$ &emsp; \\mp: $\\mp$  \n",
    "\\geq: $\\geq$ &emsp; \\parallel: $\\parallel$ &emsp; \\times: $\\times$  \n",
    "\\neq: $\\neq$ &emsp; 45^{\\circ}: $45^{\\circ}$ &emsp; \\div: $\\div$  \n",
    "\\ll: $\\ll$ &emsp; \\cong: $\\cong$ &emsp; \\ast: $\\ast$  \n",
    "\\gg: $\\gg$ &emsp; \\ncong: $\\ncong$ &emsp; \\mid: $\\mid$  \n",
    "\\approx: $\\approx$ &emsp; \\sim: $\\sim$ &emsp; \\nmid: $\\nmid$  \n",
    "\\asymp: $\\asymp$ &emsp; \\simeq: $\\simeq$ &emsp; n!: $n!$  \n",
    "\\equiv: $\\equiv$ &emsp; \\nsim: $\\nsim$ &emsp; \\partial: $\\partial$  \n",
    "\\prec: $\\prec$ &emsp; \\oplus: $\\oplus$ &emsp; \\nabla: $\\nabla$  \n",
    "\\preceq: $\\preceq$ &emsp; \\ominus: $\\ominus$ &emsp; \\hbar: $\\hbar$  \n",
    "\\succ: $\\succ$ &emsp; \\odot: $\\odot$ &emsp; \\circ: $\\circ$  \n",
    "\\succeq: $\\succeq$ &emsp; \\otimes: $\\otimes$ &emsp; \\star: $\\star$  \n",
    "\\propto: $\\propto$ &emsp; \\oslash: $\\oslash$ &emsp; \\surd: $\\surd$  \n",
    "\\doteq: $\\doteq$ &emsp; \\upharpoonright: $\\upharpoonright$ &emsp; \\checkmark: $\\checkmark$  "
   ]
  },
  {
   "cell_type": "markdown",
   "metadata": {},
   "source": [
    "### Angles and Vectors"
   ]
  },
  {
   "cell_type": "markdown",
   "metadata": {},
   "source": [
    "\n",
    "Left angle : $\\langle$\n",
    "\n",
    "Right angle : $\\rangle$\n",
    "\n",
    "Angle between two vectors u and v\t: $\\langle \\vec{u},\\vec{v}\\rangle$\t\n",
    "\n",
    "$$ \\vec{AB} \\, \\cdot \\, \\vec{CD} =0  \\Rightarrow  \\vec{AB} \\, \\perp\\, \\vec{CD}$$\n"
   ]
  },
  {
   "cell_type": "markdown",
   "metadata": {},
   "source": [
    "### Sets and logic"
   ]
  },
  {
   "cell_type": "markdown",
   "metadata": {},
   "source": [
    "\\cup: $\\cup$ &emsp; \\mathbb{R}: $\\mathbb{R}$ &emsp; \\forall: $\\forall$  \n",
    "\\cap: $\\cap$ &emsp; \\mathbb{Z}: $\\mathbb{Z}$ &emsp; \\exists: $\\exists$  \n",
    "\\subset: $\\subset$ &emsp; \\mathbb{Q}: $\\mathbb{Q}$ &emsp; \\neg: $\\neg$  \n",
    "\\subseteq: $\\subseteq$ &emsp; \\mathbb{N}: $\\mathbb{N}$ &emsp; \\vee: $\\vee$  \n",
    "\\supset: $\\supset$ &emsp; \\mathbb{C}: $\\mathbb{C}$ &emsp; \\wedge: $\\wedge$    \n",
    "\\supseteq: $\\supseteq$ &emsp; \\varnothing: $\\varnothing$ &emsp; \\vdash: $\\vdash$  \n",
    "\\in: $\\in$ &emsp; \\emptyset: $\\emptyset$ &emsp; \\models: $\\models$  \n",
    "\\ni: $\\ni$ &emsp; \\aleph: $\\aleph$ &emsp; \\notin: $\\notin$  \n",
    "\\equiv: $\\equiv$ &emsp; \\setminus: $\\setminus$  "
   ]
  },
  {
   "cell_type": "markdown",
   "metadata": {},
   "source": [
    "### arrows"
   ]
  },
  {
   "cell_type": "markdown",
   "metadata": {},
   "source": [
    "\\rightarrow: $\\rightarrow$ &emsp; \\mapsto: $\\mapsto$ &emsp; \\nrightarrow: $\\nrightarrow$  \n",
    "\\Rightarrow: $\\Rightarrow$ &emsp; \\nRightarrow: $\\nRightarrow$ &emsp; \\longmapsto: $\\longmapsto$  \n",
    "\\longrightarrow: $\\longrightarrow$ &emsp; \\leftarrow: $\\leftarrow$ &emsp; \\leftrightarrow: $\\leftrightarrow$  \n",
    "\\downarrow: $\\downarrow$ &emsp; \\Longrightarrow: $\\Longrightarrow$ &emsp; \\uparrow: $\\uparrow$  \n",
    "\\leadsto: $\\leadsto$ &emsp; \\updownarrow: $\\updownarrow$  "
   ]
  },
  {
   "cell_type": "markdown",
   "metadata": {},
   "source": [
    "### Examples of Math expressions"
   ]
  },
  {
   "cell_type": "markdown",
   "metadata": {},
   "source": [
    "#### Sum"
   ]
  },
  {
   "cell_type": "markdown",
   "metadata": {},
   "source": [
    "Sum from 0 to +inf:\n",
    "\n",
    "$$\\sum_{j=0}^{+\\infty} A_{j}$$\n",
    "\n",
    "Double sum:\n",
    "$$\\sum^k_{i=1}\\sum^{l+1}_{j=1}\\,A_i A_j$$\t\n",
    "\n",
    "\n",
    "Taylor expansion of $e^x$:\n",
    "$$ e^x  = \\sum_{k=0}^{n}\\, \\frac{x^k}{k!} + o(x^n) $$ "
   ]
  },
  {
   "cell_type": "markdown",
   "metadata": {},
   "source": [
    "#### Limit"
   ]
  },
  {
   "cell_type": "markdown",
   "metadata": {},
   "source": [
    "Limit at plus infinity\t: $$\\lim_{x \\to +\\infty} f(x)$$ \n",
    "Limit at minus infinity\t: $$\\lim_{x \\to -\\infty} f(x)$$\t\n",
    "Limit at $\\alpha$  : $$\\lim_{x \\to \\alpha} f(x)$$\n",
    "\n",
    "Max : $$\\max_{x \\in [a,b]}f(x)$$\t\n",
    "Min : $$\\min_{x \\in [\\alpha,\\beta]}f(x)$$\t\n",
    "Sup : $$\\sup_{x \\in \\mathbb{R}}f(x)$$\t\n",
    "Inf : $$\\inf_{x > s}f(x)$$\t"
   ]
  },
  {
   "cell_type": "markdown",
   "metadata": {},
   "source": [
    "#### Product"
   ]
  },
  {
   "cell_type": "markdown",
   "metadata": {},
   "source": [
    "Product:\n",
    "$$\\prod_{j=1}^k A_{\\alpha_j}$$\n",
    "Double product:\n",
    "$$\\prod^k_{i=1}\\prod^l_{j=1}\\,A_i A_j$$\t"
   ]
  },
  {
   "cell_type": "markdown",
   "metadata": {},
   "source": [
    "#### Integral"
   ]
  },
  {
   "cell_type": "markdown",
   "metadata": {},
   "source": [
    "Simple integral:\n",
    "$$\\int_{a}^b f(x)dx$$\n",
    "\n",
    "Double integral:\n",
    "$$\\int_{a}^b\\int_{c}^d f(x,y)\\,dxdy$$\t\n",
    "\n",
    "Triple integral:\n",
    "$$\\iiint$$\t\n",
    "\n",
    "Contour integral:\n",
    "$$\\oint$$\t"
   ]
  },
  {
   "cell_type": "markdown",
   "metadata": {},
   "source": [
    "#### Matrix"
   ]
  },
  {
   "cell_type": "markdown",
   "metadata": {},
   "source": [
    "Plain:\n",
    "\n",
    "\\begin{matrix}\n",
    "1 & 2 & 3\\\\\n",
    "a & b & c\n",
    "\\end{matrix}\n",
    "\n",
    "Round brackets:\n",
    "\\begin{pmatrix}\n",
    "1 & 2 & 3\\\\\n",
    "a & b & c\n",
    "\\end{pmatrix}\n",
    "\n",
    "Curly brackets:\n",
    "\\begin{Bmatrix}\n",
    "1 & 2 & 3\\\\\n",
    "a & b & c\n",
    "\\end{Bmatrix}\t\n",
    "\n",
    "Pipes:\n",
    "\\begin{vmatrix}\n",
    "1 & 2 & 3\\\\\n",
    "a & b & c\n",
    "\\end{vmatrix}\n",
    "\n",
    "Double pipes\n",
    "\\begin{Vmatrix}\n",
    "1 & 2 & 3\\\\\n",
    "a & b & c\n",
    "\\end{Vmatrix}"
   ]
  },
  {
   "cell_type": "markdown",
   "metadata": {},
   "source": [
    "# Algerbra 1"
   ]
  },
  {
   "cell_type": "markdown",
   "metadata": {},
   "source": [
    "### Linear equations"
   ]
  },
  {
   "cell_type": "markdown",
   "metadata": {},
   "source": [
    "Adding, subtracting, multipling or dividing both sides of an equation is equivalence preserving  \n",
    "3(2X + 1) $\\rightarrow$ Distributive property"
   ]
  },
  {
   "cell_type": "markdown",
   "metadata": {},
   "source": [
    "Determine the number of solutions  \n",
    "X = 5 $\\rightarrow$ 1 solution  \n",
    "3 = 5 $\\rightarrow$ no solution  \n",
    "5 = 5 $\\rightarrow$ $\\infty$ solutions  "
   ]
  },
  {
   "cell_type": "markdown",
   "metadata": {},
   "source": [
    "<b>Linear equations with unknown coeffecients</b>  \n",
    "ax + 3x = bx + 5  \n",
    "ax + 3x <font color=yellow>-bx</font> =  bx + 5 <font color=yellow>-bx</font>  \n",
    "ax + 3x -bx = 5  \n",
    "x(a + 3 - b) = 5  \n",
    "  \n",
    "x $\\frac{a + 3 -b}{a + 3 - b}$ = $\\frac{5}{a + 3 - b}$  \n",
    "\n",
    "x = $\\frac{5}{a + 3 - b}$"
   ]
  },
  {
   "cell_type": "markdown",
   "metadata": {},
   "source": [
    "<b>Inequalities with variables on both sides</b>  \n",
    "if you multiply or divide both sides of an equation by a negative number you have to flip the sign.  \n",
    "< to >  \n",
    "$\\leq$ to $\\geq$  \n"
   ]
  },
  {
   "cell_type": "markdown",
   "metadata": {},
   "source": [
    "-38d - 57 $\\leq$ -19d + 76  \n",
    "-38d <font color=yellow>+19d</font> - 57 $\\leq$ <font color=yellow>+19d</font> -19d + 76  \n",
    "-19d - 57 $\\leq$ 76  \n",
    "-19d <font color=yellow>+57</font> - 57 $\\leq$ <font color=yellow>+57</font> + 76  \n",
    "-19d $\\leq$ 133  \n",
    "  \n",
    "$\\frac{-19d - 57}{-19}$ $\\leq$ $\\frac{133}{-19}$  \n",
    "  \n",
    "d $\\geq$ -7\n",
    "\n"
   ]
  },
  {
   "cell_type": "markdown",
   "metadata": {},
   "source": [
    "When you graph a linear equation you get a line. If the equation does not make a straight line then its not a linear equation.  \n",
    "$\\Delta$ means change  \n",
    "$slope = \\frac{\\Delta verticle direction}{\\Delta horizontal direction} = \\frac{\\Delta Y}{\\Delta X}$ "
   ]
  },
  {
   "cell_type": "markdown",
   "metadata": {},
   "source": [
    "Positive slope = right + up\n",
    "Negative slope = right + down"
   ]
  },
  {
   "cell_type": "markdown",
   "metadata": {},
   "source": [
    "<b>Slope intercept Form</b>  \n",
    "y = mx + b"
   ]
  },
  {
   "cell_type": "markdown",
   "metadata": {},
   "source": [
    "y = 2x + 3  \n",
    "- the + 3 is the y intercept  \n",
    "- the 2 in 2x is the slope"
   ]
  },
  {
   "cell_type": "markdown",
   "metadata": {},
   "source": [
    "<b>Slope intercept from 2 points</b>  \n",
    "(6, -6)(8, 8)  \n",
    "slope = $\\frac{y_1 - y_2}{x_1 - x_2}$ = $\\frac{14}{2}$ = 7  \n",
    "y = 7x + b  \n",
    "Now plug in one of the coordinates  \n",
    "-6 = 42 + b  \n",
    "-48 = b  \n",
    "y = 7x - 48  "
   ]
  },
  {
   "cell_type": "markdown",
   "metadata": {},
   "source": [
    "<b>Point slope form</b>  \n",
    "y - $y_1$ = m(x - $x_1$)  \n"
   ]
  },
  {
   "cell_type": "markdown",
   "metadata": {},
   "source": [
    "Point(A, B) Point(X, Y)  \n",
    "Slope = $\\frac{\\Delta y}{\\Delta x}$ = $\\frac{Y - B}{X - A}$ = m  \n",
    "y - B = m(x - A)"
   ]
  },
  {
   "cell_type": "markdown",
   "metadata": {},
   "source": [
    "(8, -8) (9, 8)  \n",
    "y - 8 = 16(x - 9)  "
   ]
  },
  {
   "cell_type": "markdown",
   "metadata": {},
   "source": [
    "<b>Standard Form</b>  \n",
    "Ax + By = C  \n",
    "This is easy to find intercepts."
   ]
  },
  {
   "cell_type": "markdown",
   "metadata": {},
   "source": [
    "#### Systems of equations  "
   ]
  },
  {
   "cell_type": "markdown",
   "metadata": {},
   "source": [
    "<b>Systems of equations with substitution</b>  \n",
    "constant 1: -3x -4y = -2  \n",
    "constant 2: y = 2x - 5  \n",
    "\n",
    "substitute y value in equation 1 into equation 2.  \n",
    "-3x -4y = -2\n",
    "-3x + -4(2x - 5) = -2  \n",
    "-3x + -8x + 20 = -2  \n",
    "add x's and move 20 over  \n",
    "-11x = -22  \n",
    "x = 2  \n",
    "You could then plug x into either equation and solve for y.  "
   ]
  },
  {
   "cell_type": "markdown",
   "metadata": {},
   "source": [
    "<b>Solving systems by elimination</b>  \n",
    "- Add equations  \n",
    "x -4y = -18  \n",
    "-x + 3y = 11  \n",
    "-y = -7  \n",
    "  \n",
    "- Subtract equations  \n",
    "2x + 3y = 4  \n",
    "2x + y = 1  \n",
    "2y = 3  \n",
    "\n",
    "- multiple equation, then add or subtract  \n",
    "2x - y = 1  \n",
    "-x + y = 5  (*2) -2x + 2y = 10  \n",
    "    -- add equations  \n",
    "y = 11  "
   ]
  },
  {
   "cell_type": "markdown",
   "metadata": {},
   "source": [
    "<b>Systems of equations number of solutions</b>  \n",
    "- an equation with no solution is an inconsistent set of equations  \n",
    "- Consistent $\\rightarrow$ has at least one solution  \n",
    "- Inconsistent $\\rightarrow$ has no solutions  \n",
    "- dependent $\\rightarrow$ is the same line  \n",
    "- independent $\\rightarrow$ has one solution  "
   ]
  },
  {
   "cell_type": "markdown",
   "metadata": {},
   "source": [
    "### Functions"
   ]
  },
  {
   "cell_type": "markdown",
   "metadata": {},
   "source": [
    "input $\\rightarrow$ function $\\rightarrow$ output  "
   ]
  },
  {
   "cell_type": "markdown",
   "metadata": {},
   "source": [
    "<b>Solving for input</b>  \n",
    "f(t) = -2t + 5  \n",
    "f() = 13  \n",
    "13 = -2t + 5  \n",
    "2t = -13 + 5  \n",
    "2t = -8  \n",
    "t = -4  "
   ]
  },
  {
   "cell_type": "markdown",
   "metadata": {},
   "source": [
    "<b>Solving for output</b>  \n",
    "h(x) = -20 + 11t  \n",
    "h(11) = \n",
    "-20 + 121 = 101  \n",
    "h(11) = 101"
   ]
  },
  {
   "cell_type": "markdown",
   "metadata": {},
   "source": [
    "<b>Equation vs Function</b>  \n",
    "equation: x + 3 = 10  \n",
    "function: graph, code, equation  "
   ]
  },
  {
   "cell_type": "markdown",
   "metadata": {},
   "source": [
    "<b>Create function from equation</b>  \n",
    "4a + 7b = -52  \n",
    "  \n",
    "$\\frac{b}{\\rightarrow}$ Function $\\frac{a}{\\rightarrow}$  \n",
    "  \n",
    "4a + 7b = -52  \n",
    "  \n",
    "$\\frac{4a + 7b -52}{4}$  \n",
    "  \n",
    "a = $\\frac{-7}{4}$ b - 13  \n",
    "  \n",
    "f(b) = -13 - $\\frac{-7}{4}$ b  "
   ]
  },
  {
   "cell_type": "markdown",
   "metadata": {},
   "source": [
    "<b>Intervals and interval notation</b>  \n",
    "- number line with solid dots is a closed interval  \n",
    "- number line with circle dots is an open interval  \n",
    "- brackets mean include. $\\leq$ or $\\geq$ example: [-1,1] \n",
    "- paranthsis mean does not include. < or >. example: (-1, 1)  \n",
    "- you could have one of each. (-1, 1]  "
   ]
  },
  {
   "cell_type": "markdown",
   "metadata": {},
   "source": [
    "{x $\\in$ $\\mathbb{R}$ $\\mid$ -1 < x < 1}  \n",
    "set( { ) x is a member( $\\in$ ) of the real numbers( $\\mathbb{R}$ ) such that( $\\mid$ )}  \n",
    "  \n",
    "{x $\\in$ $\\mathbb{R}$ $\\mid$ x $\\in$ [-1,1]}  "
   ]
  },
  {
   "cell_type": "markdown",
   "metadata": {},
   "source": [
    "<b>Domain of a function</b>  \n",
    "- The domain is the set of all inputs in which a function is defined.  \n",
    "if f(x) = $\\frac{2}{x}$ and you input a zero it would be undefined.  \n",
    "Domain: { x $\\in$ $\\mathbb{R}$ $\\mid$ x $\\neq$ 0 }  "
   ]
  },
  {
   "cell_type": "markdown",
   "metadata": {},
   "source": [
    "<b>Range of a function</b>  \n",
    "- The range is the set of all possible outputs of a function.  \n",
    "if f(x) = $x^2$  \n",
    "Range: { f(x) $\\in$ $\\mathbb{R}$ $\\mid$ f(x) $\\geq$ 0 } "
   ]
  },
  {
   "cell_type": "markdown",
   "metadata": {},
   "source": [
    "Average rate of change = slope"
   ]
  },
  {
   "cell_type": "markdown",
   "metadata": {},
   "source": [
    "<b>Inverse of a function</b>  \n",
    "example:  \n",
    "f(x) = 2x + 4  \n",
    "f(2) = 8  \n",
    "f(2) maps to 8  \n",
    "\n",
    "$f^{-1}$ is the inverse  \n",
    "solve for x and get $f^{-1}$ (y)  \n",
    "y = 2x + 4  \n",
    "y - 4 = 2x  \n",
    "  \n",
    "$\\frac{y - 4 = 2x}{2}$  \n",
    "  \n",
    "$\\frac{y}{2}$ - 2 = x  \n",
    "\n",
    "You can switch the x and y  "
   ]
  },
  {
   "cell_type": "markdown",
   "metadata": {},
   "source": [
    "### Min and Max points"
   ]
  },
  {
   "cell_type": "markdown",
   "metadata": {},
   "source": [
    "extremum points are relative min and max points"
   ]
  },
  {
   "cell_type": "markdown",
   "metadata": {},
   "source": [
    "### Sequence"
   ]
  },
  {
   "cell_type": "markdown",
   "metadata": {},
   "source": [
    "ordered list of numbers  \n",
    "-finite has a length  \n",
    "-infinite"
   ]
  },
  {
   "cell_type": "markdown",
   "metadata": {},
   "source": [
    "$A_k$ = {1, 4, 7, 10} $\\leftarrow$ This is just like accessing an index  \n",
    "{ $A_k^4$ }  $\\leftarrow$ 4 is length, k is index  \n",
    "$A_k$ = 1 + 3(k-1)  $\\leftarrow$ explicit function  \n",
    "  \n",
    "$A_1$ = -5  \n",
    "$A_n$ = -5 + 2(n-1)  $\\leftarrow$ recursive function  \n"
   ]
  },
  {
   "cell_type": "markdown",
   "metadata": {},
   "source": [
    "defing sequence = recursive function  \n",
    "Arithmetic sequence will add the same amount to every index."
   ]
  },
  {
   "cell_type": "markdown",
   "metadata": {},
   "source": [
    "What is the twentieth term?  \n",
    "$A_i$ = 4 + 3(i - 1)  \n",
    "$A_20$ = 4 + 3(20 - 1)  \n",
    "$A_20$ = 4 + 3(19)  \n",
    "$A_20$ = 4 + 57  \n",
    "$A_20$ = 61  "
   ]
  },
  {
   "cell_type": "markdown",
   "metadata": {},
   "source": [
    "Recursive formulas of arithmetic sequences give us 2 pieces of information.  \n",
    "- The first term in the sequence  \n",
    "- The pattern rule  "
   ]
  },
  {
   "cell_type": "markdown",
   "metadata": {},
   "source": [
    "Recursive definition  \n",
    "  \n",
    "g(n) = {$\\frac{A -if n = 1}{g(n - 1) + B  -if n > 1}$}"
   ]
  },
  {
   "cell_type": "markdown",
   "metadata": {},
   "source": [
    "Geometric Sequence  \n",
    "{2, 6, 18, 54}  \n",
    "$A_1$ = 2  \n",
    "r = 3 $\\leftarrow$ common ratio  \n",
    "  \n",
    "Series or geometric series, the sum of a geometric sequence  "
   ]
  },
  {
   "cell_type": "markdown",
   "metadata": {},
   "source": [
    "Explicit function  \n",
    "g(x) = 9 * $8^x-1$  $\\leftarrow$ supposed to be raised to x-1  \n",
    "\n",
    "recursive function  \n",
    "g(x) = g(x - 1) * 8  "
   ]
  },
  {
   "cell_type": "markdown",
   "metadata": {},
   "source": [
    "Two base cases  \n",
    "f(n) = {$\\frac{-6 .if n = 1}{-4 .if n = 2}{f(n-2) + f(n-1) .if n > 2}$}  "
   ]
  },
  {
   "cell_type": "markdown",
   "metadata": {},
   "source": [
    "### Absolute value graph"
   ]
  },
  {
   "cell_type": "markdown",
   "metadata": {},
   "source": [
    "Shift 3 to the right  \n",
    "y = $\\mid$ x - 3 $\\mid$  \n",
    "  \n",
    "shift 2 to the left  \n",
    "y = $\\mid$ x + 2 $\\mid$  \n",
    "  \n",
    "shift up 3  \n",
    "y = $\\mid$ x $\\mid$ + 3  \n",
    "\n",
    "shift down 2  \n",
    "y = $\\mid$ x $\\mid$ - 2  \n",
    "  \n",
    "Scale by 4  \n",
    "y = 4 $\\mid$ x $\\mid$  \n",
    "  \n",
    "scale by 3 and flip over the x axis  \n",
    "y = -3 $\\mid$ x $\\mid$  "
   ]
  },
  {
   "cell_type": "markdown",
   "metadata": {},
   "source": [
    "### Piecewise function"
   ]
  },
  {
   "cell_type": "markdown",
   "metadata": {},
   "source": [
    "piecewise functions are functions that are defined in separate \"pieces\" for different intervals of the input."
   ]
  },
  {
   "cell_type": "markdown",
   "metadata": {},
   "source": [
    "f(x) =  \n",
    "\\begin{Bmatrix}\n",
    "-9, -9 < x < -5\\\\  \n",
    "6, -5 < x < -1\\\\  \n",
    "-7, -1 < x < 9\\\\  \n",
    "\\end{Bmatrix}\t"
   ]
  },
  {
   "cell_type": "markdown",
   "metadata": {},
   "source": [
    "### Multiplying dividing powers"
   ]
  },
  {
   "cell_type": "markdown",
   "metadata": {},
   "source": [
    "$4^{-3}$ * $4^5$ = $4^{-3 + 5}$ = $4^2$  "
   ]
  },
  {
   "cell_type": "markdown",
   "metadata": {},
   "source": [
    "$x^{-4}$ = $\\frac{1}{x*x*x*x}$  "
   ]
  },
  {
   "cell_type": "markdown",
   "metadata": {},
   "source": [
    "$\\frac{12^{-7}}{12^{-5}}$ = $12^{-7 + 5}$ = $12^{-2}$  "
   ]
  },
  {
   "cell_type": "markdown",
   "metadata": {},
   "source": [
    "($3^{-8}$ * $7^3$)^-2  \n",
    "($3^{-8}$)^-2  * ($7^3$)^-2  \n",
    "$3^{16}$ * $7^{-6}$  "
   ]
  },
  {
   "cell_type": "markdown",
   "metadata": {},
   "source": [
    "### Square roots"
   ]
  },
  {
   "cell_type": "markdown",
   "metadata": {},
   "source": [
    "Product rule: $X^a$ * $X^b$ = $X^{a + b}$  \n",
    "Power rule: $(X^a)^b$  = $X^{ab}$  \n",
    "  \n",
    "Quotient rule: $\\frac{X^a}{X^b}$ = $X^{a - b}  \n",
    "  \n",
    "Zero exponent rule: $X^0$ = 1"
   ]
  },
  {
   "cell_type": "markdown",
   "metadata": {},
   "source": [
    "<b>Simplifying square roots with variables</b>  \n",
    "  \n",
    "$\\sqrt{80b^2}$  =  \n",
    "$\\sqrt{4^2}$ * $\\sqrt{5}$ * $\\sqrt{b^2}$  =  \n",
    "4b $\\sqrt{5}$  "
   ]
  },
  {
   "cell_type": "markdown",
   "metadata": {},
   "source": [
    "<b>Multiple expressions with variables</b>  \n",
    "  \n",
    "2 $\\sqrt{7x}$ * 3 $\\sqrt{14x^2}$  =  \n",
    "2 * 3 * $\\sqrt{7x}$ * $\\sqrt{14x^2}$  =  \n",
    "6 $\\sqrt{7 * 7 * 2 * x^2 * x}$  =  \n",
    "6 $\\sqrt{7^2}$ * $\\sqrt{x^2}$ * $\\sqrt{2x}$  =  \n",
    "42x $\\sqrt{2x}$  "
   ]
  },
  {
   "cell_type": "markdown",
   "metadata": {},
   "source": [
    "<b>Exponential functions</b>  \n",
    "linear = y values have ~ equal difference  \n",
    "exponential = y values have ~ equal ratio  "
   ]
  },
  {
   "cell_type": "markdown",
   "metadata": {},
   "source": [
    "f(x) = $\\frac{1}{4}$ * $2^x$  \n",
    "2 $\\leftarrow$ ratio  \n",
    "$\\frac{1}{4}$ $\\leftarrow$ initial value  \n",
    "y-intercept = initial value"
   ]
  },
  {
   "cell_type": "markdown",
   "metadata": {},
   "source": [
    "Exponential decay: y = 3 * $\\frac{1}{2}^x$  \n",
    "  \n",
    "Exponential growth: y = 3 * $2^x$  "
   ]
  },
  {
   "cell_type": "markdown",
   "metadata": {},
   "source": [
    "### Quadratics"
   ]
  },
  {
   "cell_type": "markdown",
   "metadata": {},
   "source": [
    "<b>Polynomials</b>  \n",
    "\"many\" \"terms\"  \n",
    "10x + 3 $x^2$ + 7  $\\leftarrow$ 3 terms, each number is a coefficient  \n",
    "  \n",
    "A polynominal is the sum of terms  \n",
    "- non negative power  \n",
    "- degree polynominal is the higest power in equation  \n",
    "- leading = first term  \n",
    "- highest powers from left to right  \n",
    "  \n",
    "10 $z^{15}$ $\\leftarrow$ monomial  \n",
    "9 $a^2$ + 4 $\\leftarrow$ binomial  \n",
    "6 $y^2$ + 3y + $\\pi$ $\\leftarrow$ Trinomial  "
   ]
  },
  {
   "cell_type": "markdown",
   "metadata": {},
   "source": [
    "multiplying binomials  \n",
    "(x-7)(x-3)  \n",
    "x(x-7) -3(x-7)  \n",
    "$x^2$ -7x -3x + 21  \n",
    "$x^2$ -10x + 21  "
   ]
  },
  {
   "cell_type": "markdown",
   "metadata": {},
   "source": [
    "$(x + 7)^2$ =  \n",
    "(x + 7)(x + 7) =  \n",
    "$x^2$ + 14x + 49  "
   ]
  },
  {
   "cell_type": "markdown",
   "metadata": {},
   "source": [
    "$(x * 7)^2$ =  \n",
    "$x^2$ * $7^2$  "
   ]
  },
  {
   "cell_type": "markdown",
   "metadata": {},
   "source": [
    "<b>Finding the zeros of f(x)</b>  \n",
    "f(x) = (x-5)(5x+2)  \n",
    "(x - 5) $\\leftarrow$ x = 5  \n",
    "(5x + 2) $\\leftarrow$ x = - $\\frac{2}{5}$  "
   ]
  },
  {
   "cell_type": "markdown",
   "metadata": {},
   "source": [
    "<b>Solving quadratic with square root</b>  \n",
    "$2x^2$ + 3 = 75  \n",
    "$2x^2$ = 72  \n",
    "- Divide both sides by 2.  \n",
    "$x^2$ = 36  \n",
    "x = $\\pm$ $\\sqrt{36}$  \n",
    "x = $\\pm$ 6\n",
    "  \n",
    "Both 6 and -6 squared = 36. This has 2 solutions"
   ]
  },
  {
   "cell_type": "markdown",
   "metadata": {},
   "source": [
    "In general a quadratic equation can be written as:  \n",
    "$ax^2$ + bx + c = 0  \n",
    "  \n",
    "Standard form:  \n",
    "y = $3x^2$ + 12x - 14  \n",
    "  \n",
    "factored form:  \n",
    "y = 3(x-1)(x+5)  \n",
    "  \n",
    "vertex form:  \n",
    "y = 3 $(x+2)^2$ - 27"
   ]
  },
  {
   "cell_type": "markdown",
   "metadata": {},
   "source": [
    "<b>Vertex form</b>  \n",
    "y = 3 $(x + 2)^2$ - 27  \n",
    "The x coordinate is when (x + 2) equals 0. x = -2  \n",
    "The y coordinate would then be -27"
   ]
  },
  {
   "cell_type": "markdown",
   "metadata": {},
   "source": [
    "#### Solving quadratic equations by factoring"
   ]
  },
  {
   "cell_type": "markdown",
   "metadata": {},
   "source": [
    "Grouping  \n",
    "?????"
   ]
  },
  {
   "cell_type": "markdown",
   "metadata": {},
   "source": [
    "<b>Solving using structor</b>  \n",
    "$(2x-3)^2$ = 4x - 6  $\\leftarrow$ make them the same.  \n",
    "$(2x-3)^2$ = 2(2x - 3)  \n",
    "  \n",
    "Let p = 2x - 3  \n",
    "$p^2$ = 2p  \n",
    "$p^2$ - 2p = 0  \n",
    "p(p - 2) = 0  \n",
    "p = 0 or p = 2  \n",
    "  \n",
    "Now  \n",
    "2x - 3 = 0  $\\leftarrow$ first p value  \n",
    "2x = 3  \n",
    "x = $\\frac{2}{3}$  \n",
    "  \n",
    "2x - 3 = 2  $\\leftarrow$ second p value  \n",
    "2x = 5  \n",
    "x = $\\frac{5}{2}  "
   ]
  },
  {
   "cell_type": "markdown",
   "metadata": {},
   "source": [
    "### The Quadratic formula  \n",
    "- One of the top five formulas in all of math.  \n",
    "-- solve for roots or zeros  \n",
    "-- if square root is negative: no real solution"
   ]
  },
  {
   "cell_type": "markdown",
   "metadata": {},
   "source": [
    "Number of solutions  \n",
    "$b^2$ - 4ac is called the discriminate  \n",
    "if: $b^2$ - 4ac > 0 $\\leftarrow$ 2 solutions - positive  \n",
    "if: $b^2$ - 4ac = 0 $\\leftarrow$ 1 solutions - zero  \n",
    "if: $b^2$ - 4ac <> 0 $\\leftarrow$ 0 solutions - negative"
   ]
  },
  {
   "cell_type": "markdown",
   "metadata": {},
   "source": [
    "$$ ax^2 + bx + c = 0 $$  \n",
    "  \n",
    "$$ x = \\frac{-b \\pm \\sqrt{b^2 - 4ac}}{2a}  $$"
   ]
  },
  {
   "cell_type": "markdown",
   "metadata": {},
   "source": [
    "Example:  \n",
    "  \n",
    "$x^2$ + 4x - 21 = 0  \n",
    "a = 1, b = 4, c = -21  \n",
    "  \n",
    "x = $\\frac{-4 \\pm \\sqrt{16 + 84}}{2}$  \n",
    "  \n",
    "x = $\\frac{-4 \\pm 10}{2}$  \n",
    "  \n",
    "x = -7 or x = 3"
   ]
  },
  {
   "cell_type": "markdown",
   "metadata": {},
   "source": [
    "another example:  \n",
    "  \n",
    "$-5x^2$ + 7x + 9 = 0  \n",
    "  \n",
    "x = $\\frac{-7 \\pm \\sqrt{49 + 4 * 5 * 9}}{-10}$  \n",
    "\n",
    "x = $\\frac{-7 \\pm \\sqrt{229}}{-10}$"
   ]
  },
  {
   "cell_type": "markdown",
   "metadata": {},
   "source": [
    "another example:  \n",
    "  \n",
    "$3x^2$ + 6x + 1 = 0  \n",
    "  \n",
    "x = $\\frac{-6 \\pm \\sqrt{24}}{6}$  \n",
    "  \n",
    "shrink square root  \n",
    "\n",
    "x = $\\frac{-6 \\pm 2 \\sqrt{6}}{6}$  \n",
    "  \n",
    "You can divide by 2  \n",
    "  \n",
    "x = $\\frac{-3 \\pm \\sqrt{6}}{3}$ "
   ]
  },
  {
   "cell_type": "markdown",
   "metadata": {},
   "source": [
    "<b>Create the perfect square</b>  \n",
    "$x^2$ - 4x = 5  \n",
    "  \n",
    "we want $x^2$ - 4x + ? = $(x-a)^2$  \n",
    "a = half of -4x. which equals -2  \n",
    "so $a^2$ = 4  \n",
    "\n",
    "$x^2$ -4x + 4 = 9 $\\leftarrow$ we add four to both sides  \n",
    "(x - 2)(x - 2) = 9  \n",
    "$(x - 2)^2$ = 9  $\\leftarrow$ now take the square root from both sides  \n",
    "x - 2 = $\\pm$ 3  \n",
    "x = 2 $\\pm$ 3"
   ]
  },
  {
   "cell_type": "markdown",
   "metadata": {},
   "source": [
    "<b>rewrite completing the square</b>  \n",
    "  \n",
    "$x^2$ - 2x - 8 = 0  \n",
    "a = -1  \n",
    "  \n",
    "$x^2$ - 2x + 1 - 8 - 1 = 0  \n",
    "now take the perfect square and create the formula $(x + a)^2 + b$  \n",
    "  \n",
    "$(x - 1)^2$ - 9 = 0  $\\leftarrow$ add 9 to both sides  \n",
    "$(x - 1)^2$ = 9  $\\leftarrow$ take the square root from both sides  \n",
    "x - 1 = $\\pm$ 3  \n",
    "x = 1 $\\pm$ 3  "
   ]
  },
  {
   "cell_type": "markdown",
   "metadata": {},
   "source": [
    "<b>Vertex from standard form</b>  \n",
    "Vertex = - $\\frac{b}{2a}$  \n",
    "Example..  \n",
    "  \n",
    "$3x^2$ + 6x + 2  \n",
    "  \n",
    "-$\\frac{b}{2a}$ = - $\\frac{6}{6}$ = -1  \n",
    "  \n",
    "now you can plug -1 into equation  \n",
    "3 + -6 + 2 = -1  \n",
    "Vertex = (-1, -1)"
   ]
  },
  {
   "cell_type": "markdown",
   "metadata": {},
   "source": [
    "<b>Vertex Form</b>  \n",
    "f(x) = a $(x-h)^2$ + k  \n",
    "Vertex = (h, k)"
   ]
  },
  {
   "cell_type": "markdown",
   "metadata": {},
   "source": [
    "<b>Parabola transformation</b>  \n",
    "f(x) = $x^2$  \n",
    "  \n",
    "Shift to the right  \n",
    "f(x) = $(x - 3)^2$  \n",
    "  \n",
    "Shift down 4  \n",
    "f(x) = $(x-3)^2$ - 4  \n",
    "  \n",
    "Flip over x-axis  \n",
    "y = $-x^2$ or y = -f(x)  \n",
    "  \n",
    "Scale  \n",
    "y = - $\\frac{1}{4}$ $x^2$ $\\leftarrow$ wider in x direction, scaled vertically  "
   ]
  },
  {
   "cell_type": "markdown",
   "metadata": {},
   "source": [
    "# Algerbra 2"
   ]
  },
  {
   "cell_type": "markdown",
   "metadata": {},
   "source": [
    "<b>find the average rate of change</b>  \n",
    "f(x) = $x^2$ + 2  \n",
    "  \n",
    "find the average rate of change (2, 3)  \n",
    "  \n",
    "2: $2^2$ = 4 + 2 = 6  \n",
    "3: $3^2$ = 9 + 2 = 11  \n",
    "  \n",
    "$\\frac{\\Delta Y}{\\Delta X}$ = $\\frac{Y_2 - Y_1}{X_2 - X_1}$ = $\\frac{11 - 6}{3 - 2}$ = $\\frac{5}{1}$ = 5\n"
   ]
  },
  {
   "cell_type": "markdown",
   "metadata": {},
   "source": [
    "A note:  \n",
    "(x + y)(x - y) = $x^2$ - $y^2$  \n",
    "$(a + b)^2$ = $a^2$ + 2ab + $b^2$  "
   ]
  },
  {
   "cell_type": "markdown",
   "metadata": {},
   "source": [
    "### Imaginary numbers"
   ]
  },
  {
   "cell_type": "markdown",
   "metadata": {},
   "source": [
    "i = imaginary unit  \n",
    "i = $\\sqrt{-1}$  \n",
    "$i^0$ = 1  \n",
    "$i^1$ = i  \n",
    "$i^2$ = -1  \n",
    "$i^3$ = -i  \n",
    "$i^4$ = 1  \n",
    "$i^5$ = i  \n",
    "$i^6$ = -1  \n",
    "$i^7$ = -i  \n",
    "and so on  \n",
    "$\\sqrt{-9}$ = 3i  \n",
    "$\\sqrt{-5}$ = i $\\sqrt{5}$  "
   ]
  },
  {
   "cell_type": "markdown",
   "metadata": {},
   "source": [
    "<b>Complex numbers</b> can be real with imaginary or just real or just imaginary bumbers."
   ]
  },
  {
   "cell_type": "markdown",
   "metadata": {},
   "source": [
    "Adding complex numbers  \n",
    "5 + 2i + 3 - 7i  \n",
    "5 + 3 + 2i - 7i  \n",
    "8 - 5i  \n",
    "  \n",
    "multiplying complex numbers  \n",
    "(1 + 2i)(3 + i)  \n",
    "3 + i + 6i + $2i^2$  \n",
    "3 + 7i + -2  \n",
    "1 + 7i"
   ]
  },
  {
   "cell_type": "markdown",
   "metadata": {},
   "source": [
    "<b>i values</b>  \n",
    "$i^0$ = 1  \n",
    "$i^1$ = i  \n",
    "$i^2$ = -1  \n",
    "$i^3$ = -i  \n",
    "$i^4$ = 1  \n",
    "and so on..."
   ]
  },
  {
   "cell_type": "markdown",
   "metadata": {},
   "source": [
    "Plotting  \n",
    "imaginary = vertical axis = y axis  \n",
    "real = horizontal axis = x axis  "
   ]
  },
  {
   "cell_type": "markdown",
   "metadata": {},
   "source": [
    "$3x^2$ - 2x + 7 = 0  \n",
    "  \n",
    "x = $\\frac{2 \\pm \\sqrt{4 - 4 * 3 * 7}}{6}$  = determinate: 4 - 84\n",
    "  \n",
    "x = $\\frac{2 \\pm 2}{6}$  \n",
    "  \n",
    "x = $\\frac{1}{3}$ $\\pm$ $\\frac{1}{3}$"
   ]
  },
  {
   "cell_type": "markdown",
   "metadata": {},
   "source": [
    "### Factoring higher degree polynomials"
   ]
  },
  {
   "cell_type": "markdown",
   "metadata": {},
   "source": [
    "$a^4$ + $7a^2$ + 12  \n",
    "$(a^2)^2$ + $7(a^2)$ + 12  \n",
    "($a^2$ + 3)($a^2$ + 4)"
   ]
  },
  {
   "cell_type": "markdown",
   "metadata": {},
   "source": [
    "#### 3 term * 2 term"
   ]
  },
  {
   "cell_type": "markdown",
   "metadata": {},
   "source": [
    "3 term * 2 term  \n",
    "example 1  \n",
    "  \n",
    "($x^2$ + x - 6)($2x^2$ + 4x)  \n",
    "  \n",
    "$x^2$ + x - 6  \n",
    "(x + 3)(x - 2)  \n",
    "  \n",
    "$2x^2$ + 4x  \n",
    "2x(x + 2)  \n",
    "Now put it together  \n",
    "2x(x + 3)(x - 2)(x + 2)  \n",
    "  \n",
    "Example two:  \n",
    "  \n",
    "($x^2$ - 4)($x^2$ + 6x + 9)  \n",
    "$x^2$ - $2^2$  \n",
    "(x + 2)(x - 2)  \n",
    "  \n",
    "$x^2$ + 6x + 9  \n",
    "$x^2$ + 2(x)(3) + $(3)^2$  \n",
    "$(x + 3)^2$  \n",
    "  \n",
    "(x + 2)(x - 2)$(x + 3)^2$  \n",
    "  \n",
    "Example three:  \n",
    "  \n",
    "($x^2$ - 5x + 4)($x^2$ - 9)  \n",
    "  \n",
    "($x^2$ - 5x + 4)  \n",
    "(x - 4)(x - 1)  \n",
    "  \n",
    "($x^2$ - 9)  \n",
    "$x^2$ - $3^2$ = $(x - 3)^2$  \n",
    "(x + 3)(x - 3)  \n",
    "put it together  \n",
    "(x - 4)(x - 1)(x + 3)(x - 3)  "
   ]
  },
  {
   "cell_type": "markdown",
   "metadata": {},
   "source": [
    "#### 4 term expression"
   ]
  },
  {
   "cell_type": "markdown",
   "metadata": {},
   "source": [
    "4 term expression  \n",
    "example one:  \n",
    "  \n",
    "$x^3$ + $7x^2$ - 5x - 35  \n",
    "$x^2$ (x) + $x^2$ (7) - 5(x) - 5(7)  \n",
    "$x^2$ (x + 7) - 5(x + 7)  \n",
    "(x + 7)($x^2$ - 5)  \n",
    "  \n",
    "example two:  \n",
    "  \n",
    "$x^3$ - $8x^2$ - 2x + 16  \n",
    "$x^2$ (x - 8) -2(x - 8)  \n",
    "you can factor one x - 8 out.  And factor the outsides. ($x^2$ - 2)  \n",
    "(x - 8)($x^2$ - 2)  \n",
    "  \n",
    "example three:  \n",
    "  \n",
    "$x^4$ + $5x^3$ + 4x + 20  \n",
    "$x^3$ (x) + $x^3$ (5) + 4(x) + 4(5)  \n",
    "$x^3$ (x + 5) + 4(x + 5)  \n",
    "factor out (x + 5) and factor outside: ($x^3$ + 4)  \n",
    "(x + 5)($x^3$ + 4)  "
   ]
  },
  {
   "cell_type": "markdown",
   "metadata": {},
   "source": [
    "#### 3 term expression  "
   ]
  },
  {
   "cell_type": "markdown",
   "metadata": {},
   "source": [
    "3 term expression  \n",
    "example one:  \n",
    "  \n",
    "$5x^2$ - $20x^3$ + $20x^2$  \n",
    "$5x^2$ ($x^2$ - 4x + 4)  \n",
    "$5x^2$ (x - 2)(x - 2)  \n",
    "  \n",
    "example two:  \n",
    "  \n",
    "$7x^5$ - $21x^4$ + $14x^3$  \n",
    "$7x^3$ ($x^2$ - 3x + 2)  \n",
    "$7x^3$ (x - 2)(x - 1)  "
   ]
  },
  {
   "cell_type": "markdown",
   "metadata": {},
   "source": [
    "#### 2 term expression  "
   ]
  },
  {
   "cell_type": "markdown",
   "metadata": {},
   "source": [
    "2 term expression  \n",
    "example one:  \n",
    "  \n",
    "$3x^5$ - $75x^3$  \n",
    "$3x^3$ ($x^2$) + $3x^3$ (-25)  \n",
    "$3x^3$ ($x^2$ - 25) \n",
    "   \n",
    "$x^2$ - 25  = $(x)^2$ - $(5)^2$  \n",
    "(x + 5)(x - 5)  \n",
    "put it all together  \n",
    "$3x^2$ (x + 5)(x - 5)  "
   ]
  },
  {
   "cell_type": "markdown",
   "metadata": {},
   "source": [
    "### Factoring using structor  "
   ]
  },
  {
   "cell_type": "markdown",
   "metadata": {},
   "source": [
    "$(a + b)^2$ = $a^2$ + 2ab + $b^2$  \n",
    "(a + b)(a - b) = $a^2$ - $b^2$  "
   ]
  },
  {
   "cell_type": "markdown",
   "metadata": {},
   "source": [
    "Example one:  \n",
    "  \n",
    "$4x^2$ - $9y^6$  \n",
    "a = 2x  \n",
    "b = $3y^3$  \n",
    "(2x + $3y^3$)(2x - $3y^3$)  \n",
    "  \n",
    "Example two:  \n",
    "  \n",
    "$16x^2$ - $16xy^3$ + $4y^6$  \n",
    "a = 4x  \n",
    "b = $2y^3$  \n",
    "$(4x - 2y^3)^2$  "
   ]
  },
  {
   "cell_type": "markdown",
   "metadata": {},
   "source": [
    "<b>Factoring using perfect square pattern</b>  \n",
    "  \n",
    "$25x^4$ - $30x^2$ + 9  \n",
    "($5x^2$ - 3)($5x^2$ - 3)  \n",
    "  \n",
    "<b>Factoring a difference of squares with 2 variables</b>  \n",
    "  \n",
    "$x^2$ - $49y^2$  \n",
    "(x + 7y)(x - 7y)"
   ]
  },
  {
   "cell_type": "markdown",
   "metadata": {},
   "source": [
    "<b>Finite geometric serious</b>  \n",
    "  \n",
    "a = first term  \n",
    "r = common ratio  \n",
    "n = # of terms  \n",
    "$S_n$ = sum of first n terms  \n",
    "  \n",
    "$S_n$ = $\\frac{a(1-r)^2}{(1-r)}$  "
   ]
  },
  {
   "cell_type": "markdown",
   "metadata": {},
   "source": [
    "### Polynomial division"
   ]
  },
  {
   "cell_type": "markdown",
   "metadata": {},
   "source": [
    "$\\frac{x^2 + 3x + 2}{x + 1}$ = $\\frac{(x + 2)(x + 1)}{x + 1}$ = x + 2  \n",
    "as long as x $\\neq$ -1"
   ]
  },
  {
   "cell_type": "markdown",
   "metadata": {},
   "source": [
    "$\\frac{x^4 - 2x^3 + 5x}{x}$  \n",
    "  \n",
    "$\\frac{1}{x}$ ($x^4 - 2x^3 + 5x$)  \n",
    "  \n",
    "$x^3 - 2x^2 + 5$  \n"
   ]
  },
  {
   "cell_type": "markdown",
   "metadata": {},
   "source": [
    "$\\frac{x^2 + 5x + 8}{x + 2}$  \n",
    "  \n",
    "$\\frac{(x + 2)(x + 3) + 2}{x + 2}$  \n",
    "  \n",
    "x + 3 + $\\frac{2}{x + 2}$"
   ]
  },
  {
   "cell_type": "markdown",
   "metadata": {},
   "source": [
    "<b>Polynominal Remainder theorm</b>  \n",
    "f(x) $\\leftarrow$ Polynomial divide by x - a $\\rightarrow$ remainder f(a)  \n",
    "  \n",
    "Example:  \n",
    "  \n",
    "$3x^2$ - 4x + 7 $\\div$ x - 1  \n",
    "  = 3x - 1  with a remainder of 6  \n",
    "f(1) = 3 - 4 + 7 = 6"
   ]
  },
  {
   "cell_type": "markdown",
   "metadata": {},
   "source": [
    "Example 2:  \n",
    "  \n",
    "$-3x^3$ - $4x^2$ + 10x - 7 $\\div$ x - 2  \n",
    "f(2) = -3 * $(2^3)$ - 4 * $(2^2)$ + 10 * (2) - 7  \n",
    "= - 27\n"
   ]
  },
  {
   "cell_type": "markdown",
   "metadata": {},
   "source": [
    "For what c is x - 5 a factor of p(x)  \n",
    "p(x) = $x^3$ + $2x^2$ + cx + 10  \n",
    "125 + 50 + 5c + 10 = 0  \n",
    "5c = -185  \n",
    "c = -37"
   ]
  },
  {
   "cell_type": "markdown",
   "metadata": {},
   "source": [
    "#### Exponents"
   ]
  },
  {
   "cell_type": "markdown",
   "metadata": {},
   "source": [
    "Some rules:  \n",
    "$(a^b)^c = a^{b * c}$  \n",
    "  \n",
    "$a^b * a^c = a^{b+c}$  \n",
    "  \n",
    "$\\frac{a^b}{a^c} = a^{b-c}$  \n",
    "  \n",
    "$\\frac{a^b}{c^b} = \\frac{a}{c}^b $  \n",
    "  \n",
    "$\\sqrt{x^3} = x^{\\frac{2}{3}}$  \n",
    "  \n",
    "$x^{-3} = \\frac{1}{x^3}$  \n",
    "  \n",
    "$9^{\\frac{1}{2}} = 3$  \n",
    "  \n",
    "$x^{\\frac{1}{3}} = \\sqrt[3]{x}$  \n",
    "  \n",
    "$\\sqrt[7]{x^3} = (x^3)^{\\frac{1}{7}} = x^{\\frac{3}{7}}$  \n",
    "  \n",
    "$(\\frac{x}{y})^{\\frac{-2}{3}} = (\\frac{y}{x})^{\\frac{2}{3}}$  \n",
    "  \n",
    "$b^{\\frac{m}{n}} * b^{\\frac{p}{n}} = b^{\\frac{m+p}{n}}$  \n",
    "  \n"
   ]
  },
  {
   "cell_type": "markdown",
   "metadata": {},
   "source": [
    "$4^{-3}$ = $\\frac{1}{4^3}$ = $\\frac{1}{64}$  \n",
    "  \n",
    "$4^{1/2}$ = $\\sqrt{4}$ = 2  \n",
    "$9^{1/2}$ = 3  \n",
    "$8^{1/3}$ = $\\sqrt[3]{8}$ = 2  \n",
    "  \n",
    "$x^{5/8}$  = $\\sqrt[8]{x}^5$  \n",
    "  \n",
    "$\\sqrt[7]{v^3}$ = $(v^3)^{1/7}$ = $v^{3/7}$  \n",
    "  \n",
    "$3^a$ = $\\sqrt[5]{3^2}$  a = $\\frac{2}{5}$  "
   ]
  },
  {
   "cell_type": "markdown",
   "metadata": {},
   "source": [
    "Simplify  \n",
    "  \n",
    "$(r^{2/3} * s^3)^2$ * $\\sqrt{20r^{4} * s^5}$  \n",
    "  \n",
    "$(r^{2/3})^2$ * $(s^3)^2$ * $\\sqrt{20r^{4} * s^5}$  \n",
    "  \n",
    "$(r^{2/3})^2$ * $(s^3)^2$ * $(4 * 5 * r^4 * s^4 * s)^{1/2}$  \n",
    "  \n",
    "$r^{4/3}$ * $s^{6}$ * $4^{1/2} * 5^{1/2} * (r^4)^{1/2} * (s^4)^{1/2} * s^{1/2}$  \n",
    "  \n",
    "$r^{4/3}$ * $s^{6}$ * 2 * $\\sqrt{5}$ * $r^2$ * $s^2$ * $\\sqrt{s}$  \n",
    "  \n",
    "$2 * s^8 * r^{3\\frac{1}{3}} * \\sqrt{5} * \\sqrt{s}$  \n",
    "  \n",
    "$2 * s^{8 \\frac{1}{2}} * 4^{3 \\frac{1}{3}} * \\sqrt{5}$\n",
    "  \n"
   ]
  },
  {
   "cell_type": "markdown",
   "metadata": {},
   "source": [
    "Simplify  \n",
    "  \n",
    "$(\\frac{8}{27})^{- \\frac{2}{3}}$  \n",
    "  \n",
    "$(\\frac{27}{8})^{\\frac{2}{3}}$  \n",
    "  \n",
    "$\\frac{27^{\\frac{2}{3}}}{8^{\\frac{2}{3}}}$  \n",
    "  \n",
    "$\\frac{27^{\\frac{1}{3}^2}}{8^{\\frac{1}{3}^2}}$  \n",
    "  \n",
    "$\\frac{3^2}{2^2} = \\frac{9}{4}$"
   ]
  },
  {
   "cell_type": "markdown",
   "metadata": {},
   "source": [
    "Negative exponent  \n",
    "  \n",
    "$9^{- \\frac{1}{2}} = \\frac{1}{9^{\\frac{1}{2}}} = \\frac{1}{3}$"
   ]
  },
  {
   "cell_type": "markdown",
   "metadata": {},
   "source": [
    "Variable in exponents  \n",
    "  \n",
    "$10 * 9^{\\frac{t}{2} + 2} * 5^{3t}$  \n",
    "  \n",
    "$10 * 9^{\\frac{t}{2}}  * 9^2 * (5^3)^t$  \n",
    "\n",
    "$10 * 9^{\\frac{t}{2}}  * 81 * 125^t$  \n",
    "  \n",
    "$10 * (9^{\\frac{1}{2}})^t  * 81 * 125^t$  \n",
    "$10 * 3^t  * 81 * 125^t$  \n",
    "$810 * (3 * 125)^t$  \n",
    "$810 * 375^t$\n"
   ]
  },
  {
   "cell_type": "markdown",
   "metadata": {},
   "source": [
    "Solve for x  \n",
    "  \n",
    "$2^{3x + 5} = 64^{x - 7}$  \n",
    "  \n",
    "$2^{3x + 4} = (2^6)^{x - 7}$  \n",
    "  \n",
    "$2^{3x + 4} = 2^{6x - 42}$  \n",
    "  \n",
    "3x + 5 = 6x - 42  \n",
    "47 = 3x  \n",
    "x = $\\frac{47}{3}$"
   ]
  },
  {
   "cell_type": "markdown",
   "metadata": {},
   "source": [
    "### Logarithms"
   ]
  },
  {
   "cell_type": "markdown",
   "metadata": {},
   "source": [
    "$log_3 81$ = Log base 3 of 81 = 4  \n",
    "  \n",
    "$log_b(a) = c$ where b is the base, a is the argument and c is the exponent"
   ]
  },
  {
   "cell_type": "markdown",
   "metadata": {},
   "source": [
    "$(1 + \\frac{1}{n})^n$ is a compounding interest formula  \n",
    "As limit n $\\rightarrow$ approaches $\\infty$ we get closer to e.  \n",
    "e $\\approx$ 2.7182818"
   ]
  },
  {
   "cell_type": "markdown",
   "metadata": {},
   "source": [
    "$\\ln$ means natural log or log base e. $log_e$"
   ]
  },
  {
   "cell_type": "markdown",
   "metadata": {},
   "source": [
    "some rules:  \n",
    "$b_a + b_c = b_{a*c}$  \n",
    "  \n",
    "just like $2^3 + 2^4 = 2^{3+4}$ The logarithm is the inverse.  \n",
    "  \n",
    "$b_a - b_c = b_{\\frac{a}{c}}$  \n",
    "  \n",
    "$ a * b_c = b_{c^a}$  \n",
    "  \n",
    "$b_a = \\frac{c_a}{c_b}$  \n",
    "log button on calculator is base 10. so if you have a problem like...  \n",
    "$\\log_{17}(357) = \\frac{\\log_{10}(357)}{log_{10}(17)}$  \n"
   ]
  },
  {
   "cell_type": "markdown",
   "metadata": {},
   "source": [
    "#### Solving for exponents"
   ]
  },
  {
   "cell_type": "markdown",
   "metadata": {},
   "source": [
    "$10^{2t-3} = 7$  \n",
    "$log_{10} (7) = 2t - 3$  \n",
    "  \n",
    "$\\frac{log{10} (7) + 3}{2} = t$"
   ]
  },
  {
   "cell_type": "markdown",
   "metadata": {},
   "source": []
  },
  {
   "cell_type": "markdown",
   "metadata": {},
   "source": [
    "$5 * 10^{\\frac{z}{4}} = 32$  \n",
    "$10^{\\frac{z}{4}} = 6.4$  \n",
    "$log_{10} (6.4) = \\frac{z}{4}$  \n",
    "$z = 4 * log_{10} (6.4)$  \n",
    "$z \\approx 3.225$"
   ]
  },
  {
   "cell_type": "markdown",
   "metadata": {},
   "source": [
    "#### transforming functions"
   ]
  },
  {
   "cell_type": "markdown",
   "metadata": {},
   "source": [
    "$f(x) = x^2$  \n",
    "move right 2 and up 3  \n",
    "$g(x) = (x-2) + 3$  "
   ]
  },
  {
   "cell_type": "markdown",
   "metadata": {},
   "source": [
    "reflect  \n",
    "$f(x) = \\sqrt{x}$  \n",
    "$g(x) = - \\sqrt{x} \\rightarrow$ flipped over x-axis  \n",
    "$h(x) =  \\sqrt{-x} \\rightarrow$ flipped over y-axis  \n",
    "  \n",
    "$f(x) = e^x$  \n",
    "$g(x) = -e^x \\rightarrow$ flipped over x-axis  \n",
    "$h(x) =  e^{-x} \\rightarrow$ flipped over y-axis  "
   ]
  },
  {
   "cell_type": "markdown",
   "metadata": {},
   "source": [
    "symmetry  \n",
    "even function:  \n",
    "if its graph is symmetric with respect to the y axis.  \n",
    "if f(x) = f(-x) for all x values  \n",
    "  \n",
    "odd function:  \n",
    "if its graph is symmetric with respect to its origin.  \n",
    "this means you could rotate the figure 180 degrees and it remaing unchanged.  \n",
    "if f(-x) = -f(x) for all x values."
   ]
  },
  {
   "cell_type": "markdown",
   "metadata": {},
   "source": [
    "#### Equations"
   ]
  },
  {
   "cell_type": "markdown",
   "metadata": {},
   "source": [
    "Rational equations  \n",
    "  \n",
    "$\\frac{3x-2}{3x+1} = 3$  \n",
    "multiply boths sides by 3x + 1  \n",
    "3x - 2 = 3(3x + 1)  \n",
    "3x - 2 = 9x + 3  \n",
    "-6x = 5  \n",
    "$x = - \\frac{5}{6}$  "
   ]
  },
  {
   "cell_type": "markdown",
   "metadata": {},
   "source": [
    "$\\frac{x^2-10x+21}{3x-12} = \\frac{x-5}{x-4}$  \n",
    "factor  \n",
    "$\\frac{x^2-10x+21}{3(x-4)} = \\frac{x-5}{x-4}$  \n",
    "multiply by common factor (x-4)  \n",
    "$\\frac{x^2-10x+21}{3} = x - 5$  \n",
    "multiply by 3  \n",
    "$x^2-10x+21 = 3x - 15$  \n",
    "$x^2$ - 13x + 36 = 0  \n",
    "factor  \n",
    "(x - 4)(x - 9) = 0  \n",
    "x = 4 or x = 9  \n",
    "but you cant divide by zero so x = 9"
   ]
  },
  {
   "cell_type": "markdown",
   "metadata": {},
   "source": [
    "finding the inverse of a rational function  \n",
    "  \n",
    "g(x) = $\\frac{9x+4}{x-7}$  \n",
    "x = $\\frac{9y+4}{y-7}$  \n",
    "multiply both sides by y - 7  \n",
    "x(y - 7) = 9y + 4  \n",
    "xy - 7x = 9y + 4  \n",
    "-9y + xy = 7x + 4  \n",
    "factor out y  \n",
    "y(-9 + x) = 7x + 4  \n",
    "divide both sides by (-9 + x)  \n",
    "  \n",
    "y = $\\frac{7x + 4}{-9 + x}$  "
   ]
  },
  {
   "cell_type": "markdown",
   "metadata": {},
   "source": [
    "Radical equations  \n",
    "  \n",
    "$\\sqrt{x} = 2x - 6$  \n",
    "$(\\sqrt{x})^2 = (2x - 6)^2$  \n",
    "$x = 4x^2 - 24x + 36$  \n",
    "0 = $4x^2$ - 25x + 36  \n",
    "use the quadratic formula  \n",
    "x = $\\frac{25 \\pm \\sqrt{625 - 4 * 4 * 36}}{8}$  \n",
    "  \n",
    "x = $\\frac{25 \\pm 7}{8}$  \n",
    "x = 4 or x = 2.25  \n",
    "check  \n",
    "$\\sqrt{4} = 8 - 6$  \n",
    "1.5 = 1.5 $\\rightarrow$ True  \n",
    "$\\sqrt{2.25} = 4.5 - 6$  \n",
    "1.5 = -1.5  $\\rightarrow$ False  \n",
    "so x = 4 and 2.25 is extraneous  "
   ]
  },
  {
   "cell_type": "markdown",
   "metadata": {},
   "source": [
    "when ever you raise both sides of an equation by an even power you must check for extraneous solutions."
   ]
  },
  {
   "cell_type": "markdown",
   "metadata": {},
   "source": [
    "line and parabola intersection  \n",
    "$y = 3x^2 - 6x + 1$ and  $y - x + 1 = 0$  \n",
    "  \n",
    "x - 1 = $3x^2$ - 6x + 1  \n",
    "0 = $3x^2$ - 7x + 2  \n",
    "0 = $3x^2$ - 6x -x + 2  using grouping  \n",
    "0 = 3x(x-2) -1(x-2)  \n",
    "0 = (x-2)(3x-1)  \n",
    "x = 2 or x = $\\frac{1}{3}$  \n",
    "so now plug in the x values  \n",
    "y = x - 1  \n",
    "y = 2 - 1  \n",
    "so one coordinate is (2, 1)  \n",
    "y = $\\frac{1}{3}$ - 1  \n",
    "so coordinate two is: ( $\\frac{1}{3}$, -$\\frac{2}{3}$ )"
   ]
  },
  {
   "cell_type": "markdown",
   "metadata": {},
   "source": [
    "a line and a circle    \n",
    "y = x + 1 and $x^2$ + $y^2$ = 25  (\n",
    "  \n",
    "$x^2 + (x + 1)^2 = 25$  \n",
    "$x^2 + x^2 + 2x + 1 = 25$  \n",
    "$2x^2 + 2x - 24 = 0$  \n",
    "divide by two  \n",
    "$x^2 + x - 12 = 0$  \n",
    "(x + 2)(x - 3)  \n",
    "x = -4 and x = 3  \n",
    "now plug them into y = x + 1 and you get...   \n",
    "(-4, -3) and (3, 4)"
   ]
  },
  {
   "cell_type": "markdown",
   "metadata": {},
   "source": [
    "#### Trig"
   ]
  },
  {
   "cell_type": "markdown",
   "metadata": {},
   "source": [
    "positive angle = ccw  \n",
    "negative angle = cw  \n",
    "  \n",
    "cos $\\Theta$ = a  \n",
    "sin $\\Theta$ = b  \n",
    "  \n",
    "cos $\\Theta$ = x coordinate where terminal side of $\\angle$ intersects unit circle.  \n",
    "sin $\\Theta$ = y coordinate where terminal side of $\\angle$ intersects unit circle.  \n",
    "tan $\\Theta$ = $\\frac{\\sin \\Theta}{\\cos \\Theta}$\n"
   ]
  },
  {
   "cell_type": "markdown",
   "metadata": {},
   "source": [
    "Radians  \n",
    "$2 \\pi radians = 360 degrees$  \n",
    "$\\pi radians = 180 degrees$  \n",
    "1 radian = $\\frac{180}{\\pi}$ degrees  "
   ]
  },
  {
   "cell_type": "markdown",
   "metadata": {},
   "source": [
    "convert 150 degrees  \n",
    "  \n",
    "150 degrees * $\\frac{\\pi radians}{180 degrees}$  \n",
    "$\\frac{150 \\pi}{180}$  \n",
    "$\\frac{5}{6}$ radians"
   ]
  },
  {
   "cell_type": "markdown",
   "metadata": {},
   "source": [
    "convert $\\frac{- \\pi}{3}$ radians to degrees  \n",
    "  \n",
    "$2 \\pi radians = 360 degrees  \n",
    "  \n",
    "$\\frac{2 \\pi}{-6}$ = $\\frac{360}{-6}$  \n",
    "  \n",
    "$\\frac{1}{3}$ radians = $60^{\\circ}$"
   ]
  }
 ],
 "metadata": {
  "kernelspec": {
   "display_name": "env",
   "language": "python",
   "name": "python3"
  },
  "language_info": {
   "codemirror_mode": {
    "name": "ipython",
    "version": 3
   },
   "file_extension": ".py",
   "mimetype": "text/x-python",
   "name": "python",
   "nbconvert_exporter": "python",
   "pygments_lexer": "ipython3",
   "version": "3.8.10"
  },
  "orig_nbformat": 4
 },
 "nbformat": 4,
 "nbformat_minor": 2
}
