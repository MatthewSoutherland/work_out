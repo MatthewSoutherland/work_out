{
 "cells": [
  {
   "cell_type": "markdown",
   "metadata": {},
   "source": [
    "## Composite functions"
   ]
  },
  {
   "cell_type": "markdown",
   "metadata": {},
   "source": [
    "You want to work inside out  \n",
    "f(g(2))  \n",
    "2 -> g -> g(2) -> f -> f(g(2))  \n",
    "\n",
    "Example:  \n",
    "m(x) = 3x - 2  \n",
    "n(x) = x + 4  \n",
    "\n",
    "what is m(n(x))?  \n",
    "m(x) = 3(x + 4) - 2  \n",
    "m(x) = 3x + 12 - 2  \n",
    "m(x) = 3x + 10  \n",
    "\n",
    "This could be said as m o n, or find m o n.  \n",
    "o -> is the function composition symbol.  "
   ]
  },
  {
   "cell_type": "markdown",
   "metadata": {},
   "source": [
    "Inverse functions, in the most general sense, are functions that \"reverse\" each other. For example, if \n",
    " f takes a to b, then the inverse $f^-1$ must take b to a\n",
    " "
   ]
  },
  {
   "cell_type": "markdown",
   "metadata": {},
   "source": [
    "### Trig"
   ]
  },
  {
   "cell_type": "markdown",
   "metadata": {},
   "source": [
    "$\\frac{\\pi}{6}$ = $\\frac{180}{6}$ = $30\\deg$"
   ]
  },
  {
   "cell_type": "markdown",
   "metadata": {},
   "source": [
    "pythagrem theorm -> solve for b  \n",
    "$\\frac{1}{2}^2 + b^2 = 1^2$  \n",
    "$\\frac{1}{4} + b^2 = 1$  \n",
    "$b^2 = \\frac{3}{4}$  \n",
    "$b = \\frac{\\sqrt{3}}{2}$"
   ]
  },
  {
   "cell_type": "markdown",
   "metadata": {},
   "source": [
    "change expression to remove sqrt in denomenator  \n",
    "  \n",
    "$\\frac{1}{\\sqrt{3}} = \\frac{\\sqrt{3}}{\\sqrt{3}} * \\frac{1}{\\sqrt{3}} = \\frac{\\sqrt{3}}{3}$  "
   ]
  },
  {
   "cell_type": "markdown",
   "metadata": {},
   "source": [
    "30, 45, 60 degree equivalancies  \n",
    "$\\frac{\\pi}{3} = \\frac{\\sqrt{3}}{2}$  \n",
    "$\\frac{\\pi}{6} = \\frac{1}{2}$  \n",
    "$\\frac{\\pi}{4} = \\frac{\\sqrt{2}}{2}$  "
   ]
  },
  {
   "cell_type": "code",
   "execution_count": null,
   "metadata": {},
   "outputs": [],
   "source": []
  }
 ],
 "metadata": {
  "kernelspec": {
   "display_name": "env",
   "language": "python",
   "name": "python3"
  },
  "language_info": {
   "name": "python",
   "version": "3.12.2"
  }
 },
 "nbformat": 4,
 "nbformat_minor": 2
}
