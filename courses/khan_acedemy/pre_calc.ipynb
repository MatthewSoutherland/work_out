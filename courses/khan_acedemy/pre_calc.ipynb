{
 "cells": [
  {
   "cell_type": "markdown",
   "metadata": {},
   "source": [
    "## Composite functions"
   ]
  },
  {
   "cell_type": "markdown",
   "metadata": {},
   "source": [
    "You want to work inside out  \n",
    "f(g(2))  \n",
    "2 -> g -> g(2) -> f -> f(g(2))  \n",
    "\n",
    "Example:  \n",
    "m(x) = 3x - 2  \n",
    "n(x) = x + 4  \n",
    "\n",
    "what is m(n(x))?  \n",
    "m(x) = 3(x + 4) - 2  \n",
    "m(x) = 3x + 12 - 2  \n",
    "m(x) = 3x + 10  \n",
    "\n",
    "This could be said as m o n, or find m o n.  \n",
    "o -> is the function composition symbol.  "
   ]
  }
 ],
 "metadata": {
  "language_info": {
   "name": "python"
  }
 },
 "nbformat": 4,
 "nbformat_minor": 2
}
