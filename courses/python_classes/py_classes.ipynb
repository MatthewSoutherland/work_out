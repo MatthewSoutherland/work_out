{
 "cells": [
  {
   "cell_type": "markdown",
   "metadata": {},
   "source": [
    "1. [@classmethod](#@classmethod)  \n",
    "2. [@staticmethod](#@staticmethod)  \n",
    "3. [decorator_function](#decorator_function)  \n",
    "4. [@property](#@property)  \n",
    "5. [class_lookups](#class_lookups)  "
   ]
  },
  {
   "cell_type": "code",
   "execution_count": 4,
   "metadata": {},
   "outputs": [],
   "source": [
    "import time\n",
    "import inspect"
   ]
  },
  {
   "cell_type": "markdown",
   "metadata": {},
   "source": [
    "#### @classmethod\n",
    "@classmethod is a decorator that allows you to define a method that can be called on the class itself rather than on an instance of the class.\n",
    "cls is the first parameter of a class method. It is a reference to the class itself.    \n",
    "Content for the introduction section.\n"
   ]
  },
  {
   "cell_type": "code",
   "execution_count": 5,
   "metadata": {},
   "outputs": [
    {
     "name": "stdout",
     "output_type": "stream",
     "text": [
      "3\n"
     ]
    }
   ],
   "source": [
    "class People:\n",
    "    number_of_people = 0\n",
    "\n",
    "    def __init__(self, name, age):\n",
    "        self.name = name\n",
    "        self.age = age\n",
    "        People.number_of_people += 1\n",
    "\n",
    "    @classmethod\n",
    "    def show_number_of_people(cls):\n",
    "        print(cls.number_of_people)\n",
    "\n",
    "\n",
    "person1 = People(\"John\", 30)\n",
    "person2 = People(\"Alice\", 25)\n",
    "person3 = People(\"Bob\", 40)\n",
    "People.show_number_of_people()  # Output: 3"
   ]
  },
  {
   "cell_type": "markdown",
   "metadata": {},
   "source": [
    "#### @staticmethod\n",
    "This usage does not instantiate the class, so no instance object is created from the Vector_Math class \n",
    "when using its static methods in this way. Thus, memory usage is confined to what's necessary for \n",
    "the class definitions and the static methods, not instances of the class. Static methods are more like \n",
    "functions grouped under the class namespace for organizational and contextual purposes.\n",
    "This approach minimizes memory usage since no instance objects are created"
   ]
  },
  {
   "cell_type": "code",
   "execution_count": 6,
   "metadata": {},
   "outputs": [
    {
     "name": "stdout",
     "output_type": "stream",
     "text": [
      "[3, 3]\n"
     ]
    }
   ],
   "source": [
    "class Vector_Math:\n",
    "    @staticmethod\n",
    "    def add_vectors(vector1, vector2):\n",
    "        return [vector1[0] + vector2[0], vector1[1] + vector2[1]]\n",
    "\n",
    "    @staticmethod\n",
    "    def subtract_vectors(vector1, vector2):\n",
    "        return [vector1[0] - vector2[0], vector1[1] - vector2[1]]\n",
    "\n",
    "    @staticmethod\n",
    "    def dot_product(vector1, vector2):\n",
    "        return vector1[0] * vector2[0] + vector1[1] * vector2[1]\n",
    "\n",
    "    @staticmethod\n",
    "    def cross_product(vector1, vector2):\n",
    "        return vector1[0] * vector2[1] - vector1[1] * vector2[0]\n",
    "\n",
    "    @staticmethod\n",
    "    def scalar_product(vector, scalar):\n",
    "        return [vector[0] * scalar, vector[1] * scalar]\n",
    "\n",
    "    @staticmethod\n",
    "    def magnitude(vector):\n",
    "        return (vector[0] ** 2 + vector[1] ** 2) ** 0.5\n",
    "\n",
    "    @staticmethod\n",
    "    def normalize(vector):\n",
    "        magnitude = Vector_Math.magnitude(vector)\n",
    "        return [vector[0] / magnitude, vector[1] / magnitude]\n",
    "\n",
    "\n",
    "line_one = [1, 2]\n",
    "line_two = [2, 1]\n",
    "print(Vector_Math.add_vectors(line_one, line_two))  # Output: [3, 3]"
   ]
  },
  {
   "cell_type": "markdown",
   "metadata": {},
   "source": [
    "#### decorator_function\n",
    "this is a decorator that takes a function as an argument and returns a \n",
    "new function that wraps the original function inside it."
   ]
  },
  {
   "cell_type": "code",
   "execution_count": 7,
   "metadata": {},
   "outputs": [
    {
     "name": "stdout",
     "output_type": "stream",
     "text": [
      "example_function took 0.0882725715637207 seconds\n",
      "333332833333500000\n"
     ]
    }
   ],
   "source": [
    "def timer(func):\n",
    "    def wrapper(*args, **kwargs):\n",
    "        start = time.time()  # Start time\n",
    "        result = func(*args, **kwargs)  # Call the function\n",
    "        end = time.time()  # End time\n",
    "        print(f\"{func.__name__} took {end - start} seconds\")\n",
    "        return result\n",
    "\n",
    "    return wrapper\n",
    "\n",
    "@timer\n",
    "def example_function(n):\n",
    "    return sum([i**2 for i in range(n)])\n",
    "\n",
    "# same as: example_function = timer(example_function)\n",
    "\n",
    "print(\n",
    "    example_function(1000000)\n",
    ")\n"
   ]
  },
  {
   "cell_type": "markdown",
   "metadata": {},
   "source": [
    "#### @property  \n",
    "getters and setters  \n",
    "the __init__ calls the setter method, which checks if the value is \n",
    "negative. the @property decorator is used to define a getter method.\n",
    "The @radius.setter decorator is used to define a setter method.\n",
    "Internal Mechanism: In Python, when you call del on an attribute, Python \n",
    "internally looks up whether there's a __delete__ method defined for \n",
    "that attribute in the descriptor (which @property, @radius.setter, \n",
    "and @radius.deleter essentially create). If such a method exists, \n",
    "it is called."
   ]
  },
  {
   "cell_type": "code",
   "execution_count": 9,
   "metadata": {},
   "outputs": [
    {
     "name": "stdout",
     "output_type": "stream",
     "text": [
      "5\n",
      "10\n"
     ]
    }
   ],
   "source": [
    "class Circle:\n",
    "    def __init__(self, radius):\n",
    "        self.radius = radius  # This calls the setter method\n",
    "\n",
    "    @property\n",
    "    def radius(self):\n",
    "        return self._radius  # Return the private attribute\n",
    "\n",
    "    @radius.setter\n",
    "    def radius(self, value):\n",
    "        if value < 0:\n",
    "            raise ValueError(\"Radius cannot be negative\")\n",
    "        self._radius = value  # Store the value in a private attribute\n",
    "\n",
    "    @radius.deleter\n",
    "    def radius(self):\n",
    "        del self._radius\n",
    "\n",
    "\n",
    "c = Circle(5)\n",
    "print(c.radius)  # Output: 5\n",
    "c.radius = 10\n",
    "print(c.radius)  # Output: 10\n",
    "\n",
    "# del c.radius"
   ]
  },
  {
   "cell_type": "markdown",
   "metadata": {},
   "source": [
    "#### class_lookups"
   ]
  },
  {
   "cell_type": "code",
   "execution_count": 10,
   "metadata": {},
   "outputs": [
    {
     "name": "stdout",
     "output_type": "stream",
     "text": [
      "['__class__', '__delattr__', '__dict__', '__dir__', '__doc__', '__eq__', '__format__', '__ge__', '__getattribute__', '__getstate__', '__gt__', '__hash__', '__init__', '__init_subclass__', '__le__', '__lt__', '__module__', '__ne__', '__new__', '__reduce__', '__reduce_ex__', '__repr__', '__setattr__', '__sizeof__', '__str__', '__subclasshook__', '__weakref__', 'radius']\n"
     ]
    }
   ],
   "source": [
    "print(dir(Circle))"
   ]
  },
  {
   "cell_type": "code",
   "execution_count": 11,
   "metadata": {},
   "outputs": [
    {
     "name": "stdout",
     "output_type": "stream",
     "text": [
      "['__class__', '__delattr__', '__dir__', '__eq__', '__format__', '__ge__', '__getattribute__', '__getstate__', '__gt__', '__hash__', '__init__', '__init_subclass__', '__le__', '__lt__', '__ne__', '__new__', '__reduce__', '__reduce_ex__', '__repr__', '__setattr__', '__sizeof__', '__str__', '__subclasshook__']\n"
     ]
    }
   ],
   "source": [
    "methods = [method for method in dir(Circle) if callable(getattr(Circle, method))]\n",
    "print(methods)"
   ]
  },
  {
   "cell_type": "code",
   "execution_count": 13,
   "metadata": {},
   "outputs": [
    {
     "name": "stdout",
     "output_type": "stream",
     "text": [
      "[('__init__', <function Circle.__init__ at 0x000001E365E842C0>)]\n"
     ]
    }
   ],
   "source": [
    "class_methods = inspect.getmembers(Circle, predicate=inspect.isfunction)\n",
    "print(class_methods)"
   ]
  }
 ],
 "metadata": {
  "kernelspec": {
   "display_name": "env",
   "language": "python",
   "name": "python3"
  },
  "language_info": {
   "codemirror_mode": {
    "name": "ipython",
    "version": 3
   },
   "file_extension": ".py",
   "mimetype": "text/x-python",
   "name": "python",
   "nbconvert_exporter": "python",
   "pygments_lexer": "ipython3",
   "version": "3.12.2"
  }
 },
 "nbformat": 4,
 "nbformat_minor": 2
}
