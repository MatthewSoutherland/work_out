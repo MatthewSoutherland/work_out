{
 "cells": [
  {
   "cell_type": "markdown",
   "metadata": {},
   "source": [
    "Creational Design Patterns  \n",
    "    - [Factory_Method](#Factory_Method)  \n",
    "    - [Abstract_Factory](#Abstract_Factory)  \n",
    "    - [Builder](#Builder)  \n",
    "    - [Prototype](#ProtoType)  \n",
    "    - [Singleton](#Singleton)  \n",
    "Structural Design Patterns  \n",
    "    - [Adapter](#Adapter)  \n",
    "    - [Bridge](#Bridge)  \n",
    "    - [Composite](#Composite)  \n",
    "    - [Decorator](#Decorator)  \n",
    "    - [Facade](#Facade)  \n",
    "    - [Flyweight](#Flyweight)  \n",
    "    - [Proxy](#Proxy)  \n",
    "Behavioral Design Patterns  \n",
    "    - [Chain_Of_Responsibility](#Chain_Of_Responsibility)  \n",
    "    - [Command](#Command)  \n",
    "    - [Iterator](#Iterator)  \n",
    "    - [Mediator](#Mediator)  \n",
    "    - [Memento](#Memento)  \n",
    "    - [Observer](#Observer)  \n",
    "    - [State](#State)  \n",
    "    - [Strategy](#Strategy)  \n",
    "    - [Template_Method](#Template_Method)  \n",
    "    - [Visitor](#Visitor)  \n"
   ]
  },
  {
   "cell_type": "markdown",
   "metadata": {},
   "source": [
    "#### Factory_Method\n"
   ]
  },
  {
   "cell_type": "markdown",
   "metadata": {},
   "source": [
    "#### Abstract_Factory"
   ]
  },
  {
   "cell_type": "markdown",
   "metadata": {},
   "source": [
    "#### Builder"
   ]
  },
  {
   "cell_type": "markdown",
   "metadata": {},
   "source": [
    "#### Prototype"
   ]
  },
  {
   "cell_type": "markdown",
   "metadata": {},
   "source": [
    "#### Singleton"
   ]
  },
  {
   "cell_type": "markdown",
   "metadata": {},
   "source": [
    "#### Adapter"
   ]
  },
  {
   "cell_type": "markdown",
   "metadata": {},
   "source": [
    "#### Bridge"
   ]
  },
  {
   "cell_type": "markdown",
   "metadata": {},
   "source": [
    "#### Composite"
   ]
  },
  {
   "cell_type": "markdown",
   "metadata": {},
   "source": [
    "#### Decorator"
   ]
  },
  {
   "cell_type": "markdown",
   "metadata": {},
   "source": [
    "#### Facade"
   ]
  },
  {
   "cell_type": "markdown",
   "metadata": {},
   "source": [
    "#### Flyweight"
   ]
  },
  {
   "cell_type": "markdown",
   "metadata": {},
   "source": [
    "#### Proxy"
   ]
  },
  {
   "cell_type": "markdown",
   "metadata": {},
   "source": [
    "#### Chain_Of_Responsibility"
   ]
  },
  {
   "cell_type": "markdown",
   "metadata": {},
   "source": [
    "#### Command"
   ]
  },
  {
   "cell_type": "markdown",
   "metadata": {},
   "source": [
    "#### Iterator"
   ]
  },
  {
   "cell_type": "markdown",
   "metadata": {},
   "source": [
    "#### Mediator"
   ]
  },
  {
   "cell_type": "markdown",
   "metadata": {},
   "source": [
    "#### Memento"
   ]
  },
  {
   "cell_type": "markdown",
   "metadata": {},
   "source": [
    "#### Observer"
   ]
  },
  {
   "cell_type": "markdown",
   "metadata": {},
   "source": [
    "#### State"
   ]
  },
  {
   "cell_type": "markdown",
   "metadata": {},
   "source": [
    "#### Strategy"
   ]
  },
  {
   "cell_type": "markdown",
   "metadata": {},
   "source": [
    "#### Template_Method"
   ]
  },
  {
   "cell_type": "markdown",
   "metadata": {},
   "source": [
    "#### Visitor"
   ]
  }
 ],
 "metadata": {
  "kernelspec": {
   "display_name": "env",
   "language": "python",
   "name": "python3"
  },
  "language_info": {
   "name": "python",
   "version": "3.12.2"
  }
 },
 "nbformat": 4,
 "nbformat_minor": 2
}
