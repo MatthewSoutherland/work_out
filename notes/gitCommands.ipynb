{
 "cells": [
  {
   "cell_type": "markdown",
   "metadata": {},
   "source": [
    "A git repository has branches to help keep track of things you are doing with your code.  \n",
    "It's common to have a main branch which might be for your production code, and other branches for  \n",
    "adding new features or fixing bugs. You can create and go to a new branch   \n",
    "with <span style=\"color:yellow\">git checkout -b new_branch</span>.  \n",
    "The -b stands for \"branch\". Use that command to switch to a new branch named main."
   ]
  },
  {
   "cell_type": "markdown",
   "metadata": {},
   "source": [
    "<span style=\"color:yellow\">git diff</span> shows changed made that are not committed.  \n",
    "<span style=\"color:yellow\">git log --oneline</span> shows a condensed log.  \n",
    "ctrl q to exit"
   ]
  },
  {
   "cell_type": "markdown",
   "metadata": {},
   "source": [
    "<span style=\"color:yellow\">git branch</span> will show you all the branches in your repo.  "
   ]
  },
  {
   "cell_type": "markdown",
   "metadata": {},
   "source": [
    "You can create a branch with <span style=\"color:yellow\">git branch branch_name</span>. Branches often start with fix/ or feat/,  \n",
    "among others, like commit messages, but they use a forward slash and can't contain spaces.  \n",
    "  \n",
    "Your new branch is a clone of the main branch since that's the branch you were on when you created it.  \n",
    "It will have the same code and commit history as main did at the time of the branch creation.  \n",
    "  \n",
    "You can see your new branch, but you are still on the main branch, as denoted with the *.  \n",
    "To switch to a branch use: <span style=\"color:yellow\"> git checkout branch_name</span>"
   ]
  },
  {
   "cell_type": "markdown",
   "metadata": {},
   "source": [
    "You created the feat/add-create-table-reference branch, made a commit, and now it's ready to be added to the main branch.  \n",
    "You can use <span style=\"color:yellow\"> git merge branch_name </span>to bring changes from a branch into the branch you are currently on."
   ]
  },
  {
   "cell_type": "markdown",
   "metadata": {},
   "source": [
    "You can delete a branch with <span style=\"color:yellow\">git branch -d branch_name</span>. -d stands for \"delete\". "
   ]
  },
  {
   "cell_type": "markdown",
   "metadata": {},
   "source": [
    "Last time you created a branch and then switched to it.  \n",
    "You can do both at the same time with <span style=\"color:yellow\">git checkout -b branch_name</span>.  \n",
    "Create and switch to a new branch named feat/add-drop-table-reference.  "
   ]
  },
  {
   "cell_type": "markdown",
   "metadata": {},
   "source": [
    "<span style=\"color:yellow\">git rebase main</span>  "
   ]
  },
  {
   "cell_type": "markdown",
   "metadata": {},
   "source": [
    "You created this branch and made a commit. Since then, a commit for a bug fix was added to main.  \n",
    "This is common with many people working on a codebase simultaneously. You need to update this  \n",
    "branch so it has the same commits from main, but you can't just merge that branch into this one.  \n",
    "You need that bug fix commit to be in the same order here as it is on main, right after the \"drop table\" commit.  \n",
    "You need to rebase this branch against main to do that. Enter git rebase main to rebase this branch.  \n",
    "  \n",
    "The logs show that the bug fix commit from main was added, and then the commit from this branch was added on top of it.  \n",
    "Now, when this branch is ready to be merged into main, it will have the same commit history.  \n",
    "You should try to keep your branches up to date like this by rebasing them often. In your JSON file,  \n",
    "add a drop key to the column object with a reference for dropping a column. The syntax is in the hints,  \n",
    "give it a try first."
   ]
  },
  {
   "cell_type": "markdown",
   "metadata": {},
   "source": [
    "Another commit was added to main, you should update this branch again. To be more specific,  \n",
    "a rebase will \"rewind\" this branch to where it last matched main, then, add the commits from main that aren't here.  \n",
    "After that, it adds the commits you made to this branch on top. rebase this branch against main so it's up to date.  \n",
    "You should see a conflict...   \n",
    "  \n",
    "The conflict arose because the first commit you added to this branch changed the same lines as the commit from main.  \n",
    "So it tried to add the commit, but couldn't because something was already there. There are sections, separated by characters  \n",
    "(<, >, and =), that represent the commit you are on (HEAD) and the commit that is trying to be added  \n",
    "(feat: add column reference). Fix the conflict by removing those <, >, and = characters. Then making the JSON object valid again.  \n",
    "  \n",
    "You fixed the conflicts that arose from trying to add this commit and added them to staging.  \n",
    "It says all conflicts fixed: run <span style=\"color:yellow\">git rebase --continue</span>. Run the suggested command to continue the rebase.  "
   ]
  },
  {
   "cell_type": "markdown",
   "metadata": {},
   "source": [
    "<span style=\"color:yellow\">git stash</span> will move your changes to the side.  \n",
    "<span style=\"color:yellow\">git stash list</span> will show your stashed changes.  \n",
    "<span style=\"color:yellow\">git stash pop</span> will bring your changes back.  \n",
    "<span style=\"color:yellow\">git stash show</span>. View a condensed version of the changes in the latest stash.  \n",
    "<span style=\"color:yellow\">git stash show -p</span>. You can see what file was changed and how many lines were  \n",
    "added and removed from the file. View the full changes of the latest stash with git stash show -p. -p stands for \"patch\".  \n",
    "<span style=\"color:yellow\">git stash apply</span>. Now you can see the actual changes that are stored in the stash.  \n",
    "Before, you used the pop command to removed the latest stash and add it to your working tree.  \n",
    "You can add the latest stash while keeping it in the list with git stash apply.  \n",
    "<span style=\"color:yellow\">git stash show stash@{0}</span>. Now there's two things stashed.  \n",
    "You can use the name at the front of each stash (stash@{#}) with many of the stash commands to select one other than the latest one.  \n",
    "The most recent stash is the one at the top, stash@{0}. View the condensed changes of the oldest stash with the  \n",
    "git stash show command by putting the name of the stash after it.  \n",
    "<span style=\"color:yellow\">git stash drop</span>. There's two identical items in your stash. Drop one of them  \n",
    "with git stash drop or git stash drop <stash_name>.  "
   ]
  },
  {
   "cell_type": "markdown",
   "metadata": {},
   "source": [
    "### NOTES TAKEAWAYS  \n",
    "Merge:\n",
    "\n",
    "Merge is used to combine the changes from one branch into another. It doesn't have to be just the main branch.  \n",
    "You can merge any two branches. When you merge a branch (say, feature-branch) into another (say, main),  \n",
    "the history of both branches is preserved. This results in a new \"merge commit\" on the main branch,  \n",
    "which has two parent commits – one from the main branch's history and one from the feature-branch.  \n",
    "Merging is non-destructive, meaning the existing branches and their history remain unchanged.  \n",
    "  \n",
    "Rebase:\n",
    "\n",
    "Rebase is a way to move or combine a sequence of commits to a new base commit.  \n",
    "It's commonly used on feature branches before merging them into the main branch.  \n",
    "When you rebase a branch onto the main branch, you're changing the base of your feature-branch to be the  \n",
    "latest commit on the main branch, effectively catching it up to main. This is often done to make the history more linear.  \n",
    "Rebase rewrites the commit history by creating new commits for each original commit in the feature branch.  \n",
    "This can make the history cleaner but can be confusing if not used properly, especially in shared branches.  \n",
    "\n",
    "In practice:  \n",
    "  \n",
    "Use merge when you want to combine two branches while preserving their history.  \n",
    "Use rebase to streamline a series of commits before integrating them into a more frequently updated branch (like main).  "
   ]
  },
  {
   "cell_type": "markdown",
   "metadata": {},
   "source": [
    "### BEST PRACTICES FOR USING GIT  \n",
    "1. <b>Update your local main branch:</b>  \n",
    "  \n",
    "Start by updating your local main branch to ensure it's synchronized with the remote repository. This involves:  \n",
    "<span style=\"color:yellow\">git checkout main</span>  \n",
    "<span style=\"color:yellow\">git pull origin main</span>  \n",
    "This ensures your main branch has the latest changes from the remote main branch.  \n",
    "\n",
    "2. <b>Create and switch to a new branch:</b>  \n",
    "  \n",
    "Create a new branch for your feature or task and switch to it:   \n",
    "<span style=\"color:yellow\">git checkout -b branch_name</span>  \n",
    "This isolates your work from the main branch until it's ready to be shared.  \n",
    "\n",
    "3. <b>Do your work:</b>  \n",
    "  \n",
    "Make your changes, commit them to your branch:  \n",
    "<span style=\"color:yellow\">git add .</span>  \n",
    "<span style=\"color:yellow\">git commit -m \"Your commit message\"</span>  \n",
    "Repeat this step as needed while you work on your task.  \n",
    "\n",
    "4. <b>Incorporate changes from main (if necessary):</b>  \n",
    "  \n",
    "Before integrating your changes into main, it's good to ensure your feature branch is up to date with the latest main branch changes.  \n",
    "This can be done in two ways:  \n",
    "  \n",
    "* MERGE  \n",
    "<span style=\"color:yellow\">git checkout branch_name</span>  \n",
    "<span style=\"color:yellow\">git merge main</span>  \n",
    "This will bring changes from the main into your feature branch. Resolve any conflicts if they arise.  \n",
    "\n",
    "* Rebase (preferred for a cleaner history):  \n",
    "<span style=\"color:yellow\">git checkout branch_name</span>  \n",
    "<span style=\"color:yellow\">git rebase main</span>  \n",
    "This moves your branch's changes on top of the main branch's latest changes. Resolve any conflicts and continue the rebase process.  \n",
    "  \n",
    "5. <b>Test your changes:</b>  \n",
    "  \n",
    "Ensure that your code works correctly with the latest changes from main, especially if you've just merged or rebased.  \n",
    "\n",
    "6. <b>Push your branch:</b>  \n",
    "  \n",
    "Push your feature branch to the remote repository:  \n",
    "<span style=\"color:yellow\">git push origin branch_name</span>  \n",
    "  \n",
    "7. <b>Create a Pull Request (PR):</b>  \n",
    "  \n",
    "On the GitHub, GitLab, Bitbucket, or whichever service you're using, create a new pull request from your feature branch to the main branch.  \n",
    "Request a code review from your project collaborator.  \n",
    "  \n",
    "8. <b>Review, Merge and Clean up:</b>  \n",
    "  \n",
    "Once the PR is reviewed and approved, merge it into the main branch.  \n",
    "After merging, it's safe to delete your feature branch, both locally and remotely, to keep your repository tidy.  \n",
    "  \n",
    "9. <b>Update your local main branch again:</b>  \n",
    "  \n",
    "After the merge, make sure your local main branch is updated:  \n",
    "<span style=\"color:yellow\">git checkout main</span>  \n",
    "<span style=\"color:yellow\">git pull origin main</span>  \n",
    "By following these steps, you ensure that your feature branch is always up to date with the main branch,  \n",
    "minimizing merge conflicts. Additionally, you maintain a clean and linear project history by handling merges through pull requests.  \n",
    "\n",
    "\n",
    "\n",
    "\n",
    "\n",
    "\n",
    "\n",
    "\n"
   ]
  },
  {
   "cell_type": "markdown",
   "metadata": {},
   "source": [
    "Push a branch to the remote repository:  \n",
    "<span style=\"color:yellow\">git push origin branch_name</span>  \n"
   ]
  }
 ],
 "metadata": {
  "kernelspec": {
   "display_name": "env",
   "language": "python",
   "name": "python3"
  },
  "language_info": {
   "name": "python",
   "version": "3.8.10"
  }
 },
 "nbformat": 4,
 "nbformat_minor": 2
}
