{
 "cells": [
  {
   "cell_type": "markdown",
   "metadata": {},
   "source": [
    "Graphics design"
   ]
  },
  {
   "cell_type": "markdown",
   "metadata": {},
   "source": [
    "# HTML canvas\n"
   ]
  },
  {
   "cell_type": "markdown",
   "metadata": {},
   "source": [
    "## Creating and resizing canvas"
   ]
  },
  {
   "cell_type": "markdown",
   "metadata": {},
   "source": [
    "Too set the height and width to the full browser window, it must be done with javascript not css."
   ]
  },
  {
   "cell_type": "code",
   "execution_count": null,
   "metadata": {
    "vscode": {
     "languageId": "html"
    }
   },
   "outputs": [],
   "source": [
    "<style>\n",
    "    canvas {\n",
    "        border: 1px solid;\n",
    "    }\n",
    "</style>"
   ]
  },
  {
   "cell_type": "code",
   "execution_count": null,
   "metadata": {
    "vscode": {
     "languageId": "html"
    }
   },
   "outputs": [],
   "source": [
    "<body>  \n",
    "    <canvas></canvas>\n",
    "</body>"
   ]
  },
  {
   "cell_type": "code",
   "execution_count": null,
   "metadata": {
    "vscode": {
     "languageId": "html"
    }
   },
   "outputs": [],
   "source": [
    "<!-- resizing to full screen -->\n",
    "<script>\n",
    "    var canvas = document.querySelector('canvas');\n",
    "    canvas.width = window.innerWidth;\n",
    "    canvas.height = window.innerHeight;\n",
    "</script>"
   ]
  },
  {
   "cell_type": "markdown",
   "metadata": {},
   "source": [
    "<b>drawing</b>  \n",
    "start by making a variable named c. C stands for context.\n",
    "This will create an object in which you will have all kinds of methods to use to draw in 2d space.  \n",
    "The coordinate system starts at the top left of screen. as (0, 0)  "
   ]
  },
  {
   "cell_type": "code",
   "execution_count": null,
   "metadata": {
    "vscode": {
     "languageId": "html"
    }
   },
   "outputs": [],
   "source": [
    "<script>\n",
    "    var c = canvas.getContext('2d');\n",
    "    // fillRect takes four arguments\n",
    "    // c.fillRect(x, y, width, height);\n",
    "    c.fillRect(100, 100, 50, 50);\n",
    "</script>"
   ]
  },
  {
   "cell_type": "markdown",
   "metadata": {},
   "source": [
    "Canvas Objects:  \n",
    "- Rectangles  \n",
    "- Lines  \n",
    "- Arcs / Circles  \n",
    "- Bezier Curves  \n",
    "- Images  \n",
    "- Text  "
   ]
  },
  {
   "cell_type": "markdown",
   "metadata": {},
   "source": [
    "## Drawing Elements"
   ]
  },
  {
   "cell_type": "markdown",
   "metadata": {},
   "source": [
    "below: would draw a line starting at 50 * 50 px, with a vector angle of 315 degrees"
   ]
  },
  {
   "cell_type": "code",
   "execution_count": null,
   "metadata": {
    "vscode": {
     "languageId": "html"
    }
   },
   "outputs": [],
   "source": [
    "<script>\n",
    "    // Line\n",
    "    c.beginPath();\n",
    "    // c.moveTo(x, y);\n",
    "    c.moveTo(50, 50);\n",
    "    c.lineTo(100, 100);\n",
    "    c.stroke();\n",
    "</script>"
   ]
  },
  {
   "cell_type": "code",
   "execution_count": null,
   "metadata": {
    "vscode": {
     "languageId": "html"
    }
   },
   "outputs": [],
   "source": [
    "<script>\n",
    "    // you can continue a line as well\n",
    "    c.beginPath();\n",
    "    c.moveTo(50, 50);\n",
    "    c.lineTo(100, 100);\n",
    "    c.lineTo(200, 100);\n",
    "    c.stroke();\n",
    "</script>"
   ]
  },
  {
   "cell_type": "markdown",
   "metadata": {},
   "source": [
    "strokeStyle is equal to any css property  \n",
    "c.strokeStyle = rgb(0, 0, 255);  \n",
    "c.strokeStyle = 'blue';  \n",
    "c.strokeStyle = \"#000000\" // hexadecimal  "
   ]
  },
  {
   "cell_type": "code",
   "execution_count": null,
   "metadata": {
    "vscode": {
     "languageId": "html"
    }
   },
   "outputs": [],
   "source": [
    "<script>\n",
    "    c.beginPath();\n",
    "    c.moveTo(50, 50);\n",
    "    c.lineTo(100, 100);\n",
    "    c.strokeStyle = \"red\";\n",
    "    c.stroke();\n",
    "</script>"
   ]
  },
  {
   "cell_type": "code",
   "execution_count": null,
   "metadata": {
    "vscode": {
     "languageId": "html"
    }
   },
   "outputs": [],
   "source": [
    "<script>\n",
    "    // change rectangle color\n",
    "    // whatever fillStyle precedes rectangle is what color it will be\n",
    "    c.fillStyle = \"rgba(255, 0, 0, .5)\";\n",
    "    c.fillRect(100, 100, 50, 50); // will be red\n",
    "    c.fillStyle = \"black\";\n",
    "    c.fillRect(500, 300, 10, 10); // will be black\n",
    "</script>"
   ]
  },
  {
   "cell_type": "markdown",
   "metadata": {},
   "source": [
    "Create Arc / Circle  \n",
    "c.arc parameters:  \n",
    "- x: Interger (need to find a solution)  \n",
    "- y: Interger (need to find a solution)  \n",
    "- r: Interger (same)  \n",
    "- startAngle: Float (takes radians)  \n",
    "- endAngle: Float (takes radians)  \n",
    "- drawCounterClockwise: Bool  \n",
    "  \n",
    "any new shape you draw you want to start with begin path, other wise it will connect it to the previous path drawn.  "
   ]
  },
  {
   "cell_type": "code",
   "execution_count": null,
   "metadata": {
    "vscode": {
     "languageId": "html"
    }
   },
   "outputs": [],
   "source": [
    "<script>\n",
    "    c.beginPath(); // start new shape\n",
    "    c.arc(  // outline for arc\n",
    "        x: Int, \n",
    "        y: Int, \n",
    "        r: Int, \n",
    "        startAngle: Float, \n",
    "        endAngle: Float, \n",
    "        drawCounterClockwise: Bool (false));\n",
    "    c.strokeStyle = 'blue'; // setting the color of the shape\n",
    "    c.stroke();  // draw shape\n",
    "</script>"
   ]
  },
  {
   "cell_type": "markdown",
   "metadata": {},
   "source": [
    "## Animating Elements  \n"
   ]
  },
  {
   "cell_type": "code",
   "execution_count": null,
   "metadata": {
    "vscode": {
     "languageId": "html"
    }
   },
   "outputs": [],
   "source": [
    "<script>\n",
    "    \n",
    "    // Just proving that this creates an infinite loop and counts up forever which it does\n",
    "    count = 1;\n",
    "    function animate() {\n",
    "        requestAnimationFrame(animate);\n",
    "        console.log(count);\n",
    "        count++;\n",
    "    }\n",
    "\n",
    "    animate();\n",
    "</script>"
   ]
  },
  {
   "cell_type": "code",
   "execution_count": null,
   "metadata": {
    "vscode": {
     "languageId": "html"
    }
   },
   "outputs": [],
   "source": [
    "<script>\n",
    "    // This program is designed to bounce a circle off the walls\n",
    "\n",
    "    var c = canvas.getContext('2d');\n",
    "    \n",
    "    var x = 50;\n",
    "    var y = 50;\n",
    "    var dx = 3; // dx is stardard variable name for x velocity\n",
    "    var dy = 2; // dy same as top note\n",
    "    var radius = 10\n",
    "\n",
    "    function animate() {\n",
    "        requestAnimationFrame(animate);\n",
    "        // clearRect is needed to clear previous shape, which will simulate movement\n",
    "        c.clearRect(0, 0, innerWidth, innerHeight);\n",
    "        c.beginPath();\n",
    "        c.arc(x, y, radius, 0, Math.PI * 2, false);\n",
    "        c.strokeStyle = 'blue';\n",
    "        c.stroke();\n",
    "\n",
    "        if (x + radius > 300 || x - radius < 0) {\n",
    "            dx = -dx\n",
    "        }\n",
    "        x += dx;\n",
    "\n",
    "        // this conditional is okward because y0. is top, numbers are positive as they move down\n",
    "        if (y + radius > 155 || y - radius < 0){\n",
    "            dy = -dy;\n",
    "        }\n",
    "        y += dy;\n",
    "    }\n",
    "\n",
    "    animate();\n",
    "</script>"
   ]
  },
  {
   "cell_type": "code",
   "execution_count": null,
   "metadata": {
    "vscode": {
     "languageId": "html"
    }
   },
   "outputs": [],
   "source": [
    "<script>\n",
    "    // creates many different circles and bounces them off the walls\n",
    "    function Circle(x, y, dx, dy, radius) {\n",
    "        this.x = x;\n",
    "        this.y = y;\n",
    "        this.dx = dx;\n",
    "        this.dy = dy;\n",
    "        this.radius = radius;\n",
    "\n",
    "        this.draw = function() {\n",
    "            c.beginPath();\n",
    "            c.arc(this.x, this.y, this.radius, 0, Math.PI * 2, false);\n",
    "            c.strokeStyle = 'blue';\n",
    "            c.stroke();\n",
    "        }\n",
    "        this.update = function() {\n",
    "            if (this.x + this.radius > innerWidth || this.x - this.radius < 0) {\n",
    "                this.dx = -this.dx\n",
    "            }\n",
    "            if (this.y + this.radius > innerHeight || this.y - this.radius < 0){\n",
    "                this.dy = -this.dy;\n",
    "            }\n",
    "\n",
    "            this.x += this.dx;\n",
    "            this.y += this.dy;\n",
    "\n",
    "            this.draw();\n",
    "        }\n",
    "    }\n",
    "\n",
    "    var circleArray = [];\n",
    "    for (var i = 0; i < 20; i++){\n",
    "        var x = Math.random() * (innerWidth - radius * 2) + radius;\n",
    "        var y = Math.random() * (innerHeight - radius * 2) + radius;\n",
    "        var dx = (Math.random() - .5) * 2;\n",
    "        var dy = (Math.random() - .5) * 2;\n",
    "        var radius = 20;\n",
    "        circleArray.push(new Circle(x, y, dx, dy, radius));\n",
    "    }\n",
    "\n",
    "    function animate() {\n",
    "        requestAnimationFrame(animate);\n",
    "        // clearRect is needed to clear previous shape, which will simulate movement\n",
    "        c.clearRect(0, 0, innerWidth, innerHeight);\n",
    "        \n",
    "        for (var i = 0; i < circleArray.length; i++){\n",
    "            circleArray[i].update();\n",
    "        }\n",
    "    }\n",
    "\n",
    "    animate();\n",
    "</script>"
   ]
  },
  {
   "cell_type": "markdown",
   "metadata": {},
   "source": [
    "## Interacting with Elements"
   ]
  },
  {
   "cell_type": "markdown",
   "metadata": {},
   "source": [
    "left off at: https://www.youtube.com/watch?v=vxljFhP2krI&list=PLpPnRKq7eNW3We9VdCfx9fprhqXHwTPXL&index=4  "
   ]
  },
  {
   "cell_type": "markdown",
   "metadata": {},
   "source": [
    "## translating canvas"
   ]
  },
  {
   "cell_type": "code",
   "execution_count": null,
   "metadata": {
    "vscode": {
     "languageId": "html"
    }
   },
   "outputs": [],
   "source": [
    "<script>\n",
    "    function drawGrid(gap) {\n",
    "        ctx.beginPath();\n",
    "        for (let x=gap; x<canvas.width; x=x+gap) {\n",
    "            ctx.moveTo(x, 0);\n",
    "            ctx.lintTo(x, canvas.height);\n",
    "        }\n",
    "        for (let y=gap; y<canvas.height; y=y+gap) {\n",
    "            ctx.moveTo(0, y);\n",
    "            ctx.lineTo(canvas.height, y);\n",
    "        }\n",
    "        ctx.stroke();\n",
    "        ctx.closePath();\n",
    "    }\n",
    "</script>"
   ]
  }
 ],
 "metadata": {
  "kernelspec": {
   "display_name": "env",
   "language": "python",
   "name": "python3"
  },
  "language_info": {
   "codemirror_mode": {
    "name": "ipython",
    "version": 3
   },
   "file_extension": ".py",
   "mimetype": "text/x-python",
   "name": "python",
   "nbconvert_exporter": "python",
   "pygments_lexer": "ipython3",
   "version": "3.8.10"
  }
 },
 "nbformat": 4,
 "nbformat_minor": 2
}
