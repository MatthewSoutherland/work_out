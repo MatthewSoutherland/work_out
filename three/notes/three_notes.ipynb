{
 "cells": [
  {
   "cell_type": "code",
   "execution_count": 2,
   "metadata": {},
   "outputs": [],
   "source": [
    "from IPython.display import Image, display\n"
   ]
  },
  {
   "cell_type": "markdown",
   "metadata": {},
   "source": [
    "1. Scene  -> container  \n",
    "2. Camera  \n",
    "3. Renderer -> draw  "
   ]
  },
  {
   "cell_type": "code",
   "execution_count": null,
   "metadata": {
    "vscode": {
     "languageId": "html"
    }
   },
   "outputs": [],
   "source": [
    "<script>\n",
    "    const scene = new THREE.Scene();\n",
    "    const camera = new THREE.PerspectiveCamera(75, window.innerWidth / window.innerHeight, 0.1, 1000);\n",
    "    const renderer = new THREE.WebGLRenderer({\n",
    "        canvas: document.querySelector('#bg'),\n",
    "      });\n",
    "</script>"
   ]
  },
  {
   "cell_type": "markdown",
   "metadata": {},
   "source": [
    "## Camera"
   ]
  },
  {
   "cell_type": "markdown",
   "metadata": {},
   "source": [
    "\n",
    "There are many different types of cameras in three js. We are going to use the PerspectiveCamera.  \n",
    "The perspectiveCamera is the most common and is used to be like the human eye.  \n",
    "[docs on perspectiveCamera](https://threejs.org/docs/#api/en/cameras/PerspectiveCamera)  \n",
    "<img src=\"camera.png\" width=\"800\" height=\"500\" />\n",
    "\n"
   ]
  },
  {
   "cell_type": "markdown",
   "metadata": {},
   "source": [
    "In the line: const camera = new THREE.PerspectiveCamera(75, window.innerWidth / window.innerHeight, 0.1, 1000);  \n",
    "The first argument is the field of view.  \n",
    "the second argument is the aspect ratio. Which is based off of the browser window size.  \n",
    "the third and fourth argument is the view frustum.  \n"
   ]
  },
  {
   "cell_type": "markdown",
   "metadata": {},
   "source": [
    "Field of View  \n",
    "<img src=\"field_of_view.png\" width=\"600\" height=\"380\" />"
   ]
  },
  {
   "cell_type": "markdown",
   "metadata": {},
   "source": [
    "View Frustum:  \n",
    "<img src=\"view_frustum.png\" width=\"600\" height=\"380\" />"
   ]
  },
  {
   "cell_type": "markdown",
   "metadata": {},
   "source": [
    "### Object Creation"
   ]
  },
  {
   "cell_type": "markdown",
   "metadata": {},
   "source": [
    "three steps:  \n",
    "1. geometry -> {x, y, z}  \n",
    "[Link to Box Geometry](https://threejs.org/docs/#api/en/geometries/BoxGeometry)  \n",
    "\n",
    "```javascript\n",
    "const geometry = new THREE.BoxGeometry( 1, 1, 1 );\n",
    "const material = new THREE.MeshBasicMaterial( {color: 0x00ff00} );\n",
    "const cube = new THREE.Mesh( geometry, material );\n",
    "scene.add( cube );\n",
    "```\n"
   ]
  }
 ],
 "metadata": {
  "kernelspec": {
   "display_name": "env",
   "language": "python",
   "name": "python3"
  },
  "language_info": {
   "codemirror_mode": {
    "name": "ipython",
    "version": 3
   },
   "file_extension": ".py",
   "mimetype": "text/x-python",
   "name": "python",
   "nbconvert_exporter": "python",
   "pygments_lexer": "ipython3",
   "version": "3.12.2"
  }
 },
 "nbformat": 4,
 "nbformat_minor": 2
}
